{
 "cells": [
  {
   "cell_type": "markdown",
   "metadata": {},
   "source": [
    "# Проект по теме \"advenced SQL\""
   ]
  },
  {
   "cell_type": "markdown",
   "metadata": {
    "id": "sRW85nPMDWKb"
   },
   "source": [
    "Необходимые данные находятся в таблицах схемы `stackoverflow`. \n",
    "\n",
    "Некоторые задания включают дополнительные вопросы — не пропустите их. На часть вопросов можно ответить текстом, а для некоторых понадобится визуализация. Помните, что результат запроса можно выгрузить в датафрейм. \n",
    "\n",
    "Чтобы ожидаемый результат было легче представить, мы добавили к каждому заданию небольшой фрагмент итоговой таблицы. В запросах вы можете использовать любые подходящие названия полей."
   ]
  },
  {
   "cell_type": "code",
   "execution_count": 1,
   "metadata": {
    "id": "nlZBlglMDWKe"
   },
   "outputs": [],
   "source": [
    "#импорт библиотек\n",
    "import pandas as pd\n",
    "import matplotlib.pyplot as plt\n",
    "import seaborn as sns\n",
    "from sqlalchemy import create_engine "
   ]
  },
  {
   "cell_type": "markdown",
   "metadata": {
    "id": "XnOE3n28DWKg"
   },
   "source": [
    "### Конфигурация для подключения к базе данных `data-analyst-advanced-sql`\n",
    "Эта база данных содержит схему `stackoverflow`, с которой вы будете работать в проекте"
   ]
  },
  {
   "cell_type": "code",
   "execution_count": 2,
   "metadata": {
    "id": "6p-yGp7qDWKg"
   },
   "outputs": [],
   "source": [
    "#словарь настроек подключения к базе данных\n",
    "db_config = {\n",
    "    'user': 'praktikum_student', # имя пользователя\n",
    "    'pwd': 'Sdf4$2;d-d30pp@', # пароль\n",
    "    'host': 'rc1b-wcoijxj3yxfsf3fs.mdb.yandexcloud.net',\n",
    "    'port': 6432, # порт подключения\n",
    "    'db': 'data-analyst-advanced-sql' # название базы данных\n",
    "}  \n",
    "\n",
    "#сторока подключения к базе данных\n",
    "connection_string = 'postgresql://{}:{}@{}:{}/{}'.format(\n",
    "    db_config['user'],\n",
    "    db_config['pwd'],\n",
    "    db_config['host'],\n",
    "    db_config['port'],\n",
    "    db_config['db'],\n",
    ")"
   ]
  },
  {
   "cell_type": "markdown",
   "metadata": {
    "id": "2Rg8ZpS0DWKh"
   },
   "source": [
    "Создание подключения"
   ]
  },
  {
   "cell_type": "code",
   "execution_count": 3,
   "metadata": {
    "id": "DamCUTR6DWKi"
   },
   "outputs": [],
   "source": [
    "engine = create_engine(connection_string) "
   ]
  },
  {
   "cell_type": "markdown",
   "metadata": {
    "id": "bel8XeSlDWKj"
   },
   "source": [
    "Пример запроса к базе данных\n",
    "\n",
    "`sample_df` является pandas-датафреймом."
   ]
  },
  {
   "cell_type": "code",
   "execution_count": 4,
   "metadata": {
    "id": "6Z_fw0yLDWKk"
   },
   "outputs": [],
   "source": [
    "query = '''\n",
    "SELECT *\n",
    "FROM stackoverflow.users\n",
    "LIMIT 10;\n",
    "'''\n",
    "\n",
    "sample_df = pd.read_sql_query(query, con=engine) "
   ]
  },
  {
   "cell_type": "code",
   "execution_count": 5,
   "metadata": {
    "id": "ZpuZ290oDWKk",
    "outputId": "22785a0a-e2bc-4559-ec3c-4879c4b377eb"
   },
   "outputs": [
    {
     "data": {
      "text/html": [
       "<div>\n",
       "<style scoped>\n",
       "    .dataframe tbody tr th:only-of-type {\n",
       "        vertical-align: middle;\n",
       "    }\n",
       "\n",
       "    .dataframe tbody tr th {\n",
       "        vertical-align: top;\n",
       "    }\n",
       "\n",
       "    .dataframe thead th {\n",
       "        text-align: right;\n",
       "    }\n",
       "</style>\n",
       "<table border=\"1\" class=\"dataframe\">\n",
       "  <thead>\n",
       "    <tr style=\"text-align: right;\">\n",
       "      <th></th>\n",
       "      <th>id</th>\n",
       "      <th>creation_date</th>\n",
       "      <th>display_name</th>\n",
       "      <th>last_access_date</th>\n",
       "      <th>location</th>\n",
       "      <th>reputation</th>\n",
       "      <th>views</th>\n",
       "    </tr>\n",
       "  </thead>\n",
       "  <tbody>\n",
       "    <tr>\n",
       "      <th>0</th>\n",
       "      <td>1</td>\n",
       "      <td>2008-07-31 14:22:31</td>\n",
       "      <td>Jeff Atwood</td>\n",
       "      <td>2018-08-29 02:34:23</td>\n",
       "      <td>El Cerrito, CA</td>\n",
       "      <td>44300</td>\n",
       "      <td>408587</td>\n",
       "    </tr>\n",
       "    <tr>\n",
       "      <th>1</th>\n",
       "      <td>2</td>\n",
       "      <td>2008-07-31 14:22:31</td>\n",
       "      <td>Geoff Dalgas</td>\n",
       "      <td>2018-08-23 17:31:56</td>\n",
       "      <td>Corvallis, OR</td>\n",
       "      <td>3491</td>\n",
       "      <td>23966</td>\n",
       "    </tr>\n",
       "    <tr>\n",
       "      <th>2</th>\n",
       "      <td>3</td>\n",
       "      <td>2008-07-31 14:22:31</td>\n",
       "      <td>Jarrod Dixon</td>\n",
       "      <td>2018-08-30 20:56:24</td>\n",
       "      <td>Raleigh, NC, United States</td>\n",
       "      <td>13418</td>\n",
       "      <td>24396</td>\n",
       "    </tr>\n",
       "    <tr>\n",
       "      <th>3</th>\n",
       "      <td>4</td>\n",
       "      <td>2008-07-31 14:22:31</td>\n",
       "      <td>Joel Spolsky</td>\n",
       "      <td>2018-08-14 22:18:15</td>\n",
       "      <td>New York, NY</td>\n",
       "      <td>28768</td>\n",
       "      <td>73755</td>\n",
       "    </tr>\n",
       "    <tr>\n",
       "      <th>4</th>\n",
       "      <td>5</td>\n",
       "      <td>2008-07-31 14:22:31</td>\n",
       "      <td>Jon Galloway</td>\n",
       "      <td>2018-08-29 16:48:36</td>\n",
       "      <td>San Diego, CA</td>\n",
       "      <td>39172</td>\n",
       "      <td>11700</td>\n",
       "    </tr>\n",
       "    <tr>\n",
       "      <th>5</th>\n",
       "      <td>8</td>\n",
       "      <td>2008-07-31 21:33:24</td>\n",
       "      <td>Eggs McLaren</td>\n",
       "      <td>2018-04-09 02:04:56</td>\n",
       "      <td>None</td>\n",
       "      <td>942</td>\n",
       "      <td>6372</td>\n",
       "    </tr>\n",
       "    <tr>\n",
       "      <th>6</th>\n",
       "      <td>9</td>\n",
       "      <td>2008-07-31 21:35:27</td>\n",
       "      <td>Kevin Dente</td>\n",
       "      <td>2018-08-30 18:18:03</td>\n",
       "      <td>Oakland, CA</td>\n",
       "      <td>14337</td>\n",
       "      <td>4949</td>\n",
       "    </tr>\n",
       "    <tr>\n",
       "      <th>7</th>\n",
       "      <td>11</td>\n",
       "      <td>2008-08-01 00:59:11</td>\n",
       "      <td>Anonymous User</td>\n",
       "      <td>2008-08-01 00:59:11</td>\n",
       "      <td>None</td>\n",
       "      <td>1890</td>\n",
       "      <td>2123</td>\n",
       "    </tr>\n",
       "    <tr>\n",
       "      <th>8</th>\n",
       "      <td>13</td>\n",
       "      <td>2008-08-01 04:18:05</td>\n",
       "      <td>Chris Jester-Young</td>\n",
       "      <td>2018-08-30 02:47:23</td>\n",
       "      <td>Raleigh, NC, United States</td>\n",
       "      <td>177138</td>\n",
       "      <td>35414</td>\n",
       "    </tr>\n",
       "    <tr>\n",
       "      <th>9</th>\n",
       "      <td>17</td>\n",
       "      <td>2008-08-01 12:02:22</td>\n",
       "      <td>Nick Berardi</td>\n",
       "      <td>2018-01-22 01:35:38</td>\n",
       "      <td>Issaquah, WA</td>\n",
       "      <td>44443</td>\n",
       "      <td>4786</td>\n",
       "    </tr>\n",
       "  </tbody>\n",
       "</table>\n",
       "</div>"
      ],
      "text/plain": [
       "   id       creation_date        display_name    last_access_date  \\\n",
       "0   1 2008-07-31 14:22:31         Jeff Atwood 2018-08-29 02:34:23   \n",
       "1   2 2008-07-31 14:22:31        Geoff Dalgas 2018-08-23 17:31:56   \n",
       "2   3 2008-07-31 14:22:31        Jarrod Dixon 2018-08-30 20:56:24   \n",
       "3   4 2008-07-31 14:22:31        Joel Spolsky 2018-08-14 22:18:15   \n",
       "4   5 2008-07-31 14:22:31        Jon Galloway 2018-08-29 16:48:36   \n",
       "5   8 2008-07-31 21:33:24        Eggs McLaren 2018-04-09 02:04:56   \n",
       "6   9 2008-07-31 21:35:27         Kevin Dente 2018-08-30 18:18:03   \n",
       "7  11 2008-08-01 00:59:11      Anonymous User 2008-08-01 00:59:11   \n",
       "8  13 2008-08-01 04:18:05  Chris Jester-Young 2018-08-30 02:47:23   \n",
       "9  17 2008-08-01 12:02:22        Nick Berardi 2018-01-22 01:35:38   \n",
       "\n",
       "                     location  reputation   views  \n",
       "0              El Cerrito, CA       44300  408587  \n",
       "1               Corvallis, OR        3491   23966  \n",
       "2  Raleigh, NC, United States       13418   24396  \n",
       "3                New York, NY       28768   73755  \n",
       "4               San Diego, CA       39172   11700  \n",
       "5                        None         942    6372  \n",
       "6                 Oakland, CA       14337    4949  \n",
       "7                        None        1890    2123  \n",
       "8  Raleigh, NC, United States      177138   35414  \n",
       "9                Issaquah, WA       44443    4786  "
      ]
     },
     "execution_count": 5,
     "metadata": {},
     "output_type": "execute_result"
    }
   ],
   "source": [
    "sample_df"
   ]
  },
  {
   "cell_type": "markdown",
   "metadata": {
    "id": "gnBMXkDBDWKm"
   },
   "source": [
    "# Задание 1"
   ]
  },
  {
   "cell_type": "markdown",
   "metadata": {
    "id": "vHsfOrrNDWKn"
   },
   "source": [
    "Выведите общую сумму просмотров постов за каждый месяц 2008 года. Если данных за какой-либо месяц в базе нет, такой месяц можно пропустить. Результат отсортируйте по убыванию общего количества просмотров."
   ]
  },
  {
   "cell_type": "markdown",
   "metadata": {
    "id": "N5rTgGNmDWKn"
   },
   "source": [
    "| month_date  | total_views |\n",
    "| ------------- | ------------- |\n",
    "| 2008-09-01  | 452928568  |\n",
    "| 2008-10-01  | 365400138  |\n",
    "| ...         | ... |"
   ]
  },
  {
   "cell_type": "code",
   "execution_count": 6,
   "metadata": {
    "id": "eWvykcXTDWKo"
   },
   "outputs": [],
   "source": [
    "# напишите запрос\n",
    "query = '''\n",
    "select DATE_TRUNC('month', creation_date)::date as month_date, SUM(views_count) as total_views\n",
    "from stackoverflow.posts p\n",
    "where DATE_TRUNC('year', creation_date) = '2008-01-01'\n",
    "group by month_date\n",
    "'''\n",
    "# выполните запрос\n",
    "first_task = pd.read_sql_query(query, con=engine) "
   ]
  },
  {
   "cell_type": "markdown",
   "metadata": {
    "id": "I_ZvhOxkDWKp"
   },
   "source": [
    "Проанализируйте итоговую таблицу. Отличаются ли данные за разные месяцы? С чем могут быть связаны отличия?"
   ]
  },
  {
   "cell_type": "code",
   "execution_count": 7,
   "metadata": {
    "id": "luxSj17oDWKq",
    "scrolled": true
   },
   "outputs": [
    {
     "data": {
      "image/png": "[encoded data removed]",
      "text/plain": [
       "<Figure size 432x288 with 1 Axes>"
      ]
     },
     "metadata": {},
     "output_type": "display_data"
    }
   ],
   "source": [
    "# напишите ваш ответ здесь\n",
    "sns.set_theme(style=\"darkgrid\")\n",
    "\n",
    "# Plot the responses for different events and regions\n",
    "sns.lineplot(x=\"month_date\", y=\"total_views\",\n",
    "             data=first_task)\n",
    "plt.title('Количество просмотров по месяцам')\n",
    "plt.show()"
   ]
  },
  {
   "cell_type": "markdown",
   "metadata": {},
   "source": [
    "Анализируя график можно заметить, что в  июле у нас аномально малое количество просмотров. Наиболее вероятно, что у нас прочто не все данные за месяц.\n",
    "\n",
    "Август как последний летний месяц - период отпусков и отдыха, поэтому люди еще не актывны.\n",
    "\n",
    "Далее идет скачек, когда все что отложили летом пришло время сделать, к тому же началась общая активность, поэтому мы получем пик. Этот пик немного захватывает и октябрь. Ноябрь у нас постепенное снижение просмотров, поскольку все что отложили летом уже просмотрели и уточнили и остались в основном только текущие проблемы. \n",
    "\n",
    "Ну а декабрь во всех англоговорящих странах является несколько более коротким месяцем - 25 декабря - рождество + новый год, хотя новый год так усиленно как России они не празднуют. "
   ]
  },
  {
   "cell_type": "code",
   "execution_count": 8,
   "metadata": {},
   "outputs": [],
   "source": [
    "del first_task"
   ]
  },
  {
   "cell_type": "markdown",
   "metadata": {
    "id": "FziIXkn5DWKr"
   },
   "source": [
    "# Задание 2"
   ]
  },
  {
   "cell_type": "markdown",
   "metadata": {
    "id": "fTGESZvYDWKr"
   },
   "source": [
    "Выведите имена самых активных пользователей, которые в первый месяц после регистрации (включая день регистрации) дали больше 100 ответов. Вопросы, которые задавали пользователи, не учитывайте. Для каждого имени пользователя выведите количество уникальных значений `user_id`. Отсортируйте результат по полю с именами в лексикографическом порядке."
   ]
  },
  {
   "cell_type": "markdown",
   "metadata": {
    "id": "W5-tv6Y3DWKs"
   },
   "source": [
    "| display_name | count |\n",
    "| ------------ | ----- |\n",
    "| 1800 INFORMATION | 1 |\n",
    "| Adam Bellaire | 1 |\n",
    "| Adam Davis | 1 |\n",
    "| ... | ... |"
   ]
  },
  {
   "cell_type": "code",
   "execution_count": 32,
   "metadata": {
    "id": "fIO-y-YjDWKt"
   },
   "outputs": [],
   "source": [
    "# напишите запрос\n",
    "query = '''\n",
    "select count(distinct id) as uniq_users, display_name\n",
    "from (\n",
    "(select id, display_name, creation_date::date as user_creation\n",
    "from stackoverflow.users) u\n",
    "inner join\n",
    "(select user_id, id as post_id, creation_date::date as post_creation\n",
    "from stackoverflow.posts\n",
    "where post_type_id = 2) p on p.user_id = u.id \n",
    ")\n",
    "where user_creation  + INTERVAL'1 month' > post_creation\n",
    "group by display_name having count(post_id)> 100\n",
    "order by display_name\n",
    "'''\n",
    "\n",
    "# выполните запрос\n",
    "second_task = pd.read_sql_query(query, con=engine) "
   ]
  },
  {
   "cell_type": "code",
   "execution_count": 33,
   "metadata": {},
   "outputs": [
    {
     "data": {
      "text/html": [
       "<div>\n",
       "<style scoped>\n",
       "    .dataframe tbody tr th:only-of-type {\n",
       "        vertical-align: middle;\n",
       "    }\n",
       "\n",
       "    .dataframe tbody tr th {\n",
       "        vertical-align: top;\n",
       "    }\n",
       "\n",
       "    .dataframe thead th {\n",
       "        text-align: right;\n",
       "    }\n",
       "</style>\n",
       "<table border=\"1\" class=\"dataframe\">\n",
       "  <thead>\n",
       "    <tr style=\"text-align: right;\">\n",
       "      <th></th>\n",
       "      <th>uniq_users</th>\n",
       "      <th>display_name</th>\n",
       "    </tr>\n",
       "  </thead>\n",
       "  <tbody>\n",
       "    <tr>\n",
       "      <th>0</th>\n",
       "      <td>1</td>\n",
       "      <td>1800 INFORMATION</td>\n",
       "    </tr>\n",
       "    <tr>\n",
       "      <th>1</th>\n",
       "      <td>1</td>\n",
       "      <td>Adam Bellaire</td>\n",
       "    </tr>\n",
       "    <tr>\n",
       "      <th>2</th>\n",
       "      <td>1</td>\n",
       "      <td>Adam Davis</td>\n",
       "    </tr>\n",
       "    <tr>\n",
       "      <th>3</th>\n",
       "      <td>1</td>\n",
       "      <td>Adam Liss</td>\n",
       "    </tr>\n",
       "    <tr>\n",
       "      <th>4</th>\n",
       "      <td>8</td>\n",
       "      <td>Alan</td>\n",
       "    </tr>\n",
       "    <tr>\n",
       "      <th>...</th>\n",
       "      <td>...</td>\n",
       "      <td>...</td>\n",
       "    </tr>\n",
       "    <tr>\n",
       "      <th>71</th>\n",
       "      <td>1</td>\n",
       "      <td>leppie</td>\n",
       "    </tr>\n",
       "    <tr>\n",
       "      <th>72</th>\n",
       "      <td>1</td>\n",
       "      <td>lomaxx</td>\n",
       "    </tr>\n",
       "    <tr>\n",
       "      <th>73</th>\n",
       "      <td>1</td>\n",
       "      <td>mattlant</td>\n",
       "    </tr>\n",
       "    <tr>\n",
       "      <th>74</th>\n",
       "      <td>1</td>\n",
       "      <td>paxdiablo</td>\n",
       "    </tr>\n",
       "    <tr>\n",
       "      <th>75</th>\n",
       "      <td>1</td>\n",
       "      <td>tzot</td>\n",
       "    </tr>\n",
       "  </tbody>\n",
       "</table>\n",
       "<p>76 rows × 2 columns</p>\n",
       "</div>"
      ],
      "text/plain": [
       "    uniq_users      display_name\n",
       "0            1  1800 INFORMATION\n",
       "1            1     Adam Bellaire\n",
       "2            1        Adam Davis\n",
       "3            1         Adam Liss\n",
       "4            8              Alan\n",
       "..         ...               ...\n",
       "71           1            leppie\n",
       "72           1            lomaxx\n",
       "73           1          mattlant\n",
       "74           1         paxdiablo\n",
       "75           1              tzot\n",
       "\n",
       "[76 rows x 2 columns]"
      ]
     },
     "execution_count": 33,
     "metadata": {},
     "output_type": "execute_result"
    }
   ],
   "source": [
    "second_task"
   ]
  },
  {
   "cell_type": "markdown",
   "metadata": {},
   "source": [
    "Какие аномалии наблюдаются в данных? О чём они говорят?"
   ]
  },
  {
   "cell_type": "markdown",
   "metadata": {},
   "source": [
    "Постоим гистограммы"
   ]
  },
  {
   "cell_type": "code",
   "execution_count": 11,
   "metadata": {
    "scrolled": true
   },
   "outputs": [
    {
     "data": {
      "image/png": "[encoded data removed]",
      "text/plain": [
       "<Figure size 432x288 with 2 Axes>"
      ]
     },
     "metadata": {},
     "output_type": "display_data"
    }
   ],
   "source": [
    "second_task.hist(bins = 20)\n",
    "plt.show()"
   ]
  },
  {
   "cell_type": "markdown",
   "metadata": {
    "id": "I3Wr82TplKpI"
   },
   "source": [
    "У нас есть пользователи с дублирующимися именами, у нас есть пользователи написавшие действительно много ответов. Посмотрим эти 2 выборки повнимательнее."
   ]
  },
  {
   "cell_type": "markdown",
   "metadata": {},
   "source": [
    "Начнем с именами пользователей, которым соответствуют несколько идентификаторов."
   ]
  },
  {
   "cell_type": "code",
   "execution_count": 12,
   "metadata": {
    "id": "CEIGGQ6ODWKy",
    "scrolled": true
   },
   "outputs": [
    {
     "data": {
      "text/html": [
       "<div>\n",
       "<style scoped>\n",
       "    .dataframe tbody tr th:only-of-type {\n",
       "        vertical-align: middle;\n",
       "    }\n",
       "\n",
       "    .dataframe tbody tr th {\n",
       "        vertical-align: top;\n",
       "    }\n",
       "\n",
       "    .dataframe thead th {\n",
       "        text-align: right;\n",
       "    }\n",
       "</style>\n",
       "<table border=\"1\" class=\"dataframe\">\n",
       "  <thead>\n",
       "    <tr style=\"text-align: right;\">\n",
       "      <th></th>\n",
       "      <th>uniq_users</th>\n",
       "      <th>display_name</th>\n",
       "      <th>user_posts</th>\n",
       "    </tr>\n",
       "  </thead>\n",
       "  <tbody>\n",
       "    <tr>\n",
       "      <th>8</th>\n",
       "      <td>11</td>\n",
       "      <td>Brian</td>\n",
       "      <td>226</td>\n",
       "    </tr>\n",
       "    <tr>\n",
       "      <th>25</th>\n",
       "      <td>8</td>\n",
       "      <td>Greg</td>\n",
       "      <td>178</td>\n",
       "    </tr>\n",
       "    <tr>\n",
       "      <th>41</th>\n",
       "      <td>2</td>\n",
       "      <td>Kev</td>\n",
       "      <td>156</td>\n",
       "    </tr>\n",
       "    <tr>\n",
       "      <th>62</th>\n",
       "      <td>5</td>\n",
       "      <td>Owen</td>\n",
       "      <td>166</td>\n",
       "    </tr>\n",
       "    <tr>\n",
       "      <th>66</th>\n",
       "      <td>11</td>\n",
       "      <td>Rob</td>\n",
       "      <td>108</td>\n",
       "    </tr>\n",
       "    <tr>\n",
       "      <th>74</th>\n",
       "      <td>4</td>\n",
       "      <td>Tim</td>\n",
       "      <td>129</td>\n",
       "    </tr>\n",
       "    <tr>\n",
       "      <th>83</th>\n",
       "      <td>2</td>\n",
       "      <td>Will</td>\n",
       "      <td>267</td>\n",
       "    </tr>\n",
       "    <tr>\n",
       "      <th>92</th>\n",
       "      <td>2</td>\n",
       "      <td>jfs</td>\n",
       "      <td>145</td>\n",
       "    </tr>\n",
       "  </tbody>\n",
       "</table>\n",
       "</div>"
      ],
      "text/plain": [
       "    uniq_users display_name  user_posts\n",
       "8           11        Brian         226\n",
       "25           8         Greg         178\n",
       "41           2          Kev         156\n",
       "62           5         Owen         166\n",
       "66          11          Rob         108\n",
       "74           4          Tim         129\n",
       "83           2         Will         267\n",
       "92           2          jfs         145"
      ]
     },
     "execution_count": 12,
     "metadata": {},
     "output_type": "execute_result"
    }
   ],
   "source": [
    "# напишите ваш ответ здесь\n",
    "second_task[second_task['uniq_users'] > 1]"
   ]
  },
  {
   "cell_type": "markdown",
   "metadata": {},
   "source": [
    "Таких имен всего 8. Причем есть самые \"популярные\" - Brain и Robю Каких то других аномалий нет."
   ]
  },
  {
   "cell_type": "markdown",
   "metadata": {},
   "source": [
    "Что бы отсечь выбросы в 'user_posts' построим \"ящик с учасами\"."
   ]
  },
  {
   "cell_type": "code",
   "execution_count": 13,
   "metadata": {},
   "outputs": [
    {
     "data": {
      "image/png": "[encoded data removed]",
      "text/plain": [
       "<Figure size 432x288 with 1 Axes>"
      ]
     },
     "metadata": {},
     "output_type": "display_data"
    }
   ],
   "source": [
    "second_task[['user_posts']].boxplot()\n",
    "plt.show()"
   ]
  },
  {
   "cell_type": "markdown",
   "metadata": {},
   "source": [
    "Пользователи с аномально большим количеством ответов - это пользователи у которых больше чем 350 ответов. Россмотрим их внимательнее."
   ]
  },
  {
   "cell_type": "code",
   "execution_count": 14,
   "metadata": {
    "scrolled": false
   },
   "outputs": [
    {
     "data": {
      "text/html": [
       "<div>\n",
       "<style scoped>\n",
       "    .dataframe tbody tr th:only-of-type {\n",
       "        vertical-align: middle;\n",
       "    }\n",
       "\n",
       "    .dataframe tbody tr th {\n",
       "        vertical-align: top;\n",
       "    }\n",
       "\n",
       "    .dataframe thead th {\n",
       "        text-align: right;\n",
       "    }\n",
       "</style>\n",
       "<table border=\"1\" class=\"dataframe\">\n",
       "  <thead>\n",
       "    <tr style=\"text-align: right;\">\n",
       "      <th></th>\n",
       "      <th>uniq_users</th>\n",
       "      <th>display_name</th>\n",
       "      <th>user_posts</th>\n",
       "    </tr>\n",
       "  </thead>\n",
       "  <tbody>\n",
       "    <tr>\n",
       "      <th>26</th>\n",
       "      <td>1</td>\n",
       "      <td>Greg Hewgill</td>\n",
       "      <td>500</td>\n",
       "    </tr>\n",
       "    <tr>\n",
       "      <th>31</th>\n",
       "      <td>1</td>\n",
       "      <td>Joel Coehoorn</td>\n",
       "      <td>510</td>\n",
       "    </tr>\n",
       "    <tr>\n",
       "      <th>35</th>\n",
       "      <td>1</td>\n",
       "      <td>Jon Skeet</td>\n",
       "      <td>783</td>\n",
       "    </tr>\n",
       "    <tr>\n",
       "      <th>46</th>\n",
       "      <td>1</td>\n",
       "      <td>Marc Gravell</td>\n",
       "      <td>513</td>\n",
       "    </tr>\n",
       "    <tr>\n",
       "      <th>69</th>\n",
       "      <td>1</td>\n",
       "      <td>S.Lott</td>\n",
       "      <td>392</td>\n",
       "    </tr>\n",
       "    <tr>\n",
       "      <th>82</th>\n",
       "      <td>1</td>\n",
       "      <td>VonC</td>\n",
       "      <td>386</td>\n",
       "    </tr>\n",
       "    <tr>\n",
       "      <th>100</th>\n",
       "      <td>1</td>\n",
       "      <td>tvanfosson</td>\n",
       "      <td>620</td>\n",
       "    </tr>\n",
       "  </tbody>\n",
       "</table>\n",
       "</div>"
      ],
      "text/plain": [
       "     uniq_users   display_name  user_posts\n",
       "26            1   Greg Hewgill         500\n",
       "31            1  Joel Coehoorn         510\n",
       "35            1      Jon Skeet         783\n",
       "46            1   Marc Gravell         513\n",
       "69            1         S.Lott         392\n",
       "82            1           VonC         386\n",
       "100           1     tvanfosson         620"
      ]
     },
     "metadata": {},
     "output_type": "display_data"
    }
   ],
   "source": [
    "# напишите ваш ответ здесь\n",
    "display(second_task[second_task['user_posts'] > 350])"
   ]
  },
  {
   "cell_type": "markdown",
   "metadata": {},
   "source": [
    "Таких пользователей всего 7. Посмотрим какой процент ответов от общего числа ответов написан этими пользователями "
   ]
  },
  {
   "cell_type": "code",
   "execution_count": 15,
   "metadata": {},
   "outputs": [
    {
     "name": "stdout",
     "output_type": "stream",
     "text": [
      "19.56 процентов всех ответов написано всего 7-ю пользователями\n"
     ]
    }
   ],
   "source": [
    "print(round(sum(second_task[second_task['user_posts'] > 350]['user_posts'])/sum(second_task['user_posts'])*100, 2), 'процентов всех ответов написано всего 7-ю пользователями')"
   ]
  },
  {
   "cell_type": "markdown",
   "metadata": {},
   "source": [
    "Всего 7 пользователей делают примерно 20 процентов всех ответов. Это невероятно."
   ]
  },
  {
   "cell_type": "code",
   "execution_count": 16,
   "metadata": {},
   "outputs": [],
   "source": [
    "del second_task"
   ]
  },
  {
   "cell_type": "markdown",
   "metadata": {
    "id": "JhM2xXj5DWKu"
   },
   "source": [
    "# Задание 3"
   ]
  },
  {
   "cell_type": "markdown",
   "metadata": {
    "id": "IS6xPqyyDWKu"
   },
   "source": [
    "Выведите количество постов за 2008 год по месяцам. Отберите посты от пользователей, которые зарегистрировались в сентябре 2008 года и сделали хотя бы один пост в декабре того же года. Отсортируйте таблицу по значению месяца по убыванию."
   ]
  },
  {
   "cell_type": "markdown",
   "metadata": {
    "id": "WmjhjV2xDWKv"
   },
   "source": [
    "| month | count |\n",
    "| ------|------ |\n",
    "| 2008-12-01 | 17641 |\n",
    "| 2008-11-01 | 18294 |\n",
    "| ... | ... |"
   ]
  },
  {
   "cell_type": "code",
   "execution_count": 17,
   "metadata": {
    "id": "kVu0FB8WDWKv"
   },
   "outputs": [],
   "source": [
    "# напишите запрос\n",
    "query = '''\n",
    "select DATE_TRUNC('month', creation_date)::date as month,\n",
    "COUNT(id)\n",
    "from stackoverflow.posts p1\n",
    "where user_id in (select distinct user_id\n",
    "\t\t\t\tfrom stackoverflow.posts p \n",
    "\t\t\t\twhere user_id in (select id\n",
    "\t\t\t\t\tfrom stackoverflow.users u \n",
    "\t\t\t\t\twhere DATE_TRUNC('day', creation_date)::date between '2008-09-01' and '2008-09-30'\n",
    "\t\t\t\t\t) and date_trunc('day', creation_date)::date between '2008-12-01' and '2008-12-31'\n",
    "\t\t\t\t)\n",
    "group by DATE_TRUNC('month', creation_date)::date\n",
    "order by DATE_TRUNC('month', creation_date)::date DESC\n",
    "\n",
    "'''\n",
    "\n",
    "# выполните запрос\n",
    "third_task = pd.read_sql_query(query, con=engine) "
   ]
  },
  {
   "cell_type": "code",
   "execution_count": 18,
   "metadata": {},
   "outputs": [
    {
     "data": {
      "text/html": [
       "<div>\n",
       "<style scoped>\n",
       "    .dataframe tbody tr th:only-of-type {\n",
       "        vertical-align: middle;\n",
       "    }\n",
       "\n",
       "    .dataframe tbody tr th {\n",
       "        vertical-align: top;\n",
       "    }\n",
       "\n",
       "    .dataframe thead th {\n",
       "        text-align: right;\n",
       "    }\n",
       "</style>\n",
       "<table border=\"1\" class=\"dataframe\">\n",
       "  <thead>\n",
       "    <tr style=\"text-align: right;\">\n",
       "      <th></th>\n",
       "      <th>month</th>\n",
       "      <th>count</th>\n",
       "    </tr>\n",
       "  </thead>\n",
       "  <tbody>\n",
       "    <tr>\n",
       "      <th>0</th>\n",
       "      <td>2008-12-01</td>\n",
       "      <td>17641</td>\n",
       "    </tr>\n",
       "    <tr>\n",
       "      <th>1</th>\n",
       "      <td>2008-11-01</td>\n",
       "      <td>18294</td>\n",
       "    </tr>\n",
       "    <tr>\n",
       "      <th>2</th>\n",
       "      <td>2008-10-01</td>\n",
       "      <td>27171</td>\n",
       "    </tr>\n",
       "    <tr>\n",
       "      <th>3</th>\n",
       "      <td>2008-09-01</td>\n",
       "      <td>24870</td>\n",
       "    </tr>\n",
       "    <tr>\n",
       "      <th>4</th>\n",
       "      <td>2008-08-01</td>\n",
       "      <td>32</td>\n",
       "    </tr>\n",
       "  </tbody>\n",
       "</table>\n",
       "</div>"
      ],
      "text/plain": [
       "        month  count\n",
       "0  2008-12-01  17641\n",
       "1  2008-11-01  18294\n",
       "2  2008-10-01  27171\n",
       "3  2008-09-01  24870\n",
       "4  2008-08-01     32"
      ]
     },
     "execution_count": 18,
     "metadata": {},
     "output_type": "execute_result"
    }
   ],
   "source": [
    "third_task.head()"
   ]
  },
  {
   "cell_type": "markdown",
   "metadata": {
    "id": "Vnxn9DVHDWKx"
   },
   "source": [
    "Изучите данные: есть ли в них аномалии? Предположите, почему могли появиться аномальные значения."
   ]
  },
  {
   "cell_type": "code",
   "execution_count": 19,
   "metadata": {},
   "outputs": [
    {
     "data": {
      "image/png": "[encoded data removed]",
      "text/plain": [
       "<Figure size 432x288 with 1 Axes>"
      ]
     },
     "metadata": {},
     "output_type": "display_data"
    }
   ],
   "source": [
    "plt.plot('month', 'count', data = third_task)\n",
    "plt.xticks(rotation=90)\n",
    "plt.ylabel('Количество постов')\n",
    "plt.xlabel('Дата')\n",
    "plt.title('Количество постов за 2008 год по месяцам')\n",
    "plt.show()"
   ]
  },
  {
   "cell_type": "markdown",
   "metadata": {
    "id": "MMVIz4yMlKpN"
   },
   "source": [
    "Судя по графику мользователи особенно активны первый месяц после регистрации, затем интерес начинает падать и колличество постов сокращается."
   ]
  },
  {
   "cell_type": "code",
   "execution_count": 20,
   "metadata": {},
   "outputs": [],
   "source": [
    "del third_task"
   ]
  },
  {
   "cell_type": "markdown",
   "metadata": {
    "id": "5Pcizm0DDWKz"
   },
   "source": [
    "# Задание 4"
   ]
  },
  {
   "cell_type": "markdown",
   "metadata": {
    "id": "KUZPF6vHDWKz"
   },
   "source": [
    "Используя данные о постах, выведите несколько полей:\n",
    "\n",
    "- идентификатор пользователя, который написал пост;\n",
    "- дата создания поста;\n",
    "- количество просмотров у текущего поста;\n",
    "- сумму просмотров постов автора с накоплением.\n",
    "\n",
    "Данные в таблице должны быть отсортированы по возрастанию идентификаторов пользователей, а данные об одном и том же пользователе — по возрастанию даты создания поста."
   ]
  },
  {
   "cell_type": "markdown",
   "metadata": {
    "id": "ZpsTUVDYDWK0"
   },
   "source": [
    "| user_id | creation_date | views_count | cumulative_count |\n",
    "| ------ | -------------- | ----------- | ---------------- |\n",
    "| 1 | 2008-07-31 23:41:00  | 480476   | 480476  |\n",
    "| 1 | 2008-07-31 23:55:38  | 136033 | 616509  | \n",
    "| 1 | 2008-07-31 23:56:41  | 0 |  616509  |\n",
    "| ... | ... | ... | ... |\n",
    "| 2 | 2008-07-31 23:56:41 | 79087  | 79087 |\n",
    "| 2 | 2008-08-01 05:09:56 | 65443 | 144530 |\n",
    "| ... | ...  | ...  | ...  |"
   ]
  },
  {
   "cell_type": "code",
   "execution_count": 21,
   "metadata": {
    "id": "hDoJhMzfDWK0"
   },
   "outputs": [],
   "source": [
    "# напишите запрос\n",
    "query = '''\n",
    "select user_id, creation_date::date, views_count,\n",
    "SUM(views_count) over (partition by user_id order by user_id,  creation_date) as cumulative_count \n",
    "from stackoverflow.posts p\n",
    "'''\n",
    "\n",
    "# выполните запрос\n",
    "fourth_task = pd.read_sql_query(query, con=engine) "
   ]
  },
  {
   "cell_type": "markdown",
   "metadata": {
    "id": "toidOivXDWK1"
   },
   "source": [
    "<details>\n",
    "\n",
    "<summary>Подсказка</summary>\n",
    "Для подсчёта суммы с накоплением используйте оконную функцию.\n",
    "</details>"
   ]
  },
  {
   "cell_type": "code",
   "execution_count": 22,
   "metadata": {
    "scrolled": true
   },
   "outputs": [
    {
     "data": {
      "text/html": [
       "<div>\n",
       "<style scoped>\n",
       "    .dataframe tbody tr th:only-of-type {\n",
       "        vertical-align: middle;\n",
       "    }\n",
       "\n",
       "    .dataframe tbody tr th {\n",
       "        vertical-align: top;\n",
       "    }\n",
       "\n",
       "    .dataframe thead th {\n",
       "        text-align: right;\n",
       "    }\n",
       "</style>\n",
       "<table border=\"1\" class=\"dataframe\">\n",
       "  <thead>\n",
       "    <tr style=\"text-align: right;\">\n",
       "      <th></th>\n",
       "      <th>user_id</th>\n",
       "      <th>creation_date</th>\n",
       "      <th>views_count</th>\n",
       "      <th>cumulative_count</th>\n",
       "    </tr>\n",
       "  </thead>\n",
       "  <tbody>\n",
       "    <tr>\n",
       "      <th>0</th>\n",
       "      <td>1</td>\n",
       "      <td>2008-07-31</td>\n",
       "      <td>480476</td>\n",
       "      <td>480476</td>\n",
       "    </tr>\n",
       "    <tr>\n",
       "      <th>1</th>\n",
       "      <td>1</td>\n",
       "      <td>2008-07-31</td>\n",
       "      <td>136033</td>\n",
       "      <td>616509</td>\n",
       "    </tr>\n",
       "    <tr>\n",
       "      <th>2</th>\n",
       "      <td>1</td>\n",
       "      <td>2008-07-31</td>\n",
       "      <td>0</td>\n",
       "      <td>616509</td>\n",
       "    </tr>\n",
       "    <tr>\n",
       "      <th>3</th>\n",
       "      <td>1</td>\n",
       "      <td>2008-08-04</td>\n",
       "      <td>0</td>\n",
       "      <td>616509</td>\n",
       "    </tr>\n",
       "    <tr>\n",
       "      <th>4</th>\n",
       "      <td>1</td>\n",
       "      <td>2008-08-04</td>\n",
       "      <td>0</td>\n",
       "      <td>616509</td>\n",
       "    </tr>\n",
       "  </tbody>\n",
       "</table>\n",
       "</div>"
      ],
      "text/plain": [
       "   user_id creation_date  views_count  cumulative_count\n",
       "0        1    2008-07-31       480476            480476\n",
       "1        1    2008-07-31       136033            616509\n",
       "2        1    2008-07-31            0            616509\n",
       "3        1    2008-08-04            0            616509\n",
       "4        1    2008-08-04            0            616509"
      ]
     },
     "execution_count": 22,
     "metadata": {},
     "output_type": "execute_result"
    }
   ],
   "source": [
    "fourth_task.head()"
   ]
  },
  {
   "cell_type": "code",
   "execution_count": 23,
   "metadata": {},
   "outputs": [],
   "source": [
    "del fourth_task"
   ]
  },
  {
   "cell_type": "markdown",
   "metadata": {
    "id": "N0kHRHvIDWK2"
   },
   "source": [
    "# Задание 5"
   ]
  },
  {
   "cell_type": "markdown",
   "metadata": {
    "id": "gBgvmPtODWK2"
   },
   "source": [
    "Найдите среднее количество постов пользователей в день за август 2008 года. Отберите данные о пользователях, которые опубликовали больше 120 постов за август. Дни без публикаций не учитывайте. \n",
    "\n",
    "Отсортируйте результат по возрастанию среднего количества постов. Значения можно не округлять."
   ]
  },
  {
   "cell_type": "markdown",
   "metadata": {
    "id": "nfzR08BODWK3"
   },
   "source": [
    "| user_id | avg_daily |\n",
    "| ------- | --------- |\n",
    "| 116     | 4.777778  |\n",
    "| 234     | 5.208333  |\n",
    "| ...     | ... |"
   ]
  },
  {
   "cell_type": "code",
   "execution_count": 24,
   "metadata": {
    "id": "YFyPNz5GDWK3"
   },
   "outputs": [],
   "source": [
    "# напишите запрос\n",
    "query = '''\n",
    "select user_id, AVG(post_count) as avg_daily\n",
    "from (\n",
    "\tselect user_id, date_trunc('day', creation_date)::date as date, COUNT(id) as post_count\n",
    "\tfrom stackoverflow.posts p\n",
    "\twhere date_trunc('day', creation_date)::date between '2008-08-01' and '2008-08-31' \n",
    "\tgroup by user_id, date_trunc('day', creation_date)::date having COUNT(id)>0) as t\n",
    "group by user_id having sum(post_count)>120\n",
    "order by AVG(post_count)\n",
    "'''\n",
    "\n",
    "# выполните запрос\n",
    "fifth_task = pd.read_sql_query(query, con=engine) "
   ]
  },
  {
   "cell_type": "markdown",
   "metadata": {
    "id": "5Gs8kiJvDWK4"
   },
   "source": [
    "<details>\n",
    "\n",
    "<summary>Подсказка</summary>\n",
    "Сначала найдите идентификаторы пользователей, которые написали более 120 постов за август. Используя этот запрос в качестве подзапроса для среза, найдите и сохраните во временную таблицу идентификаторы нужных пользователей, дни августа и количество постов в день. В основном запросе сгруппируйте данные по пользователям и найдите для каждого из них среднее количество постов.\n",
    "</details>"
   ]
  },
  {
   "cell_type": "code",
   "execution_count": 25,
   "metadata": {
    "scrolled": true
   },
   "outputs": [
    {
     "data": {
      "text/html": [
       "<div>\n",
       "<style scoped>\n",
       "    .dataframe tbody tr th:only-of-type {\n",
       "        vertical-align: middle;\n",
       "    }\n",
       "\n",
       "    .dataframe tbody tr th {\n",
       "        vertical-align: top;\n",
       "    }\n",
       "\n",
       "    .dataframe thead th {\n",
       "        text-align: right;\n",
       "    }\n",
       "</style>\n",
       "<table border=\"1\" class=\"dataframe\">\n",
       "  <thead>\n",
       "    <tr style=\"text-align: right;\">\n",
       "      <th></th>\n",
       "      <th>user_id</th>\n",
       "      <th>avg_daily</th>\n",
       "    </tr>\n",
       "  </thead>\n",
       "  <tbody>\n",
       "    <tr>\n",
       "      <th>0</th>\n",
       "      <td>116</td>\n",
       "      <td>4.777778</td>\n",
       "    </tr>\n",
       "    <tr>\n",
       "      <th>1</th>\n",
       "      <td>234</td>\n",
       "      <td>5.208333</td>\n",
       "    </tr>\n",
       "    <tr>\n",
       "      <th>2</th>\n",
       "      <td>91</td>\n",
       "      <td>5.681818</td>\n",
       "    </tr>\n",
       "    <tr>\n",
       "      <th>3</th>\n",
       "      <td>905</td>\n",
       "      <td>7.000000</td>\n",
       "    </tr>\n",
       "    <tr>\n",
       "      <th>4</th>\n",
       "      <td>383</td>\n",
       "      <td>7.277778</td>\n",
       "    </tr>\n",
       "  </tbody>\n",
       "</table>\n",
       "</div>"
      ],
      "text/plain": [
       "   user_id  avg_daily\n",
       "0      116   4.777778\n",
       "1      234   5.208333\n",
       "2       91   5.681818\n",
       "3      905   7.000000\n",
       "4      383   7.277778"
      ]
     },
     "execution_count": 25,
     "metadata": {},
     "output_type": "execute_result"
    }
   ],
   "source": [
    "fifth_task.head()"
   ]
  },
  {
   "cell_type": "code",
   "execution_count": 26,
   "metadata": {},
   "outputs": [],
   "source": [
    "del fifth_task"
   ]
  },
  {
   "cell_type": "markdown",
   "metadata": {
    "id": "EQ0dcFH4DWK5"
   },
   "source": [
    "# Задание 6"
   ]
  },
  {
   "cell_type": "markdown",
   "metadata": {
    "id": "c7flfg_hDWK5"
   },
   "source": [
    "Сколько в среднем дней в период с 1 по 7 декабря 2008 года пользователи взаимодействовали с платформой? Для каждого пользователя отберите дни, в которые он или она опубликовали хотя бы один пост. Нужно получить одно целое число — не забудьте округлить результат. "
   ]
  },
  {
   "cell_type": "markdown",
   "metadata": {
    "id": "RC1Ibzm9DWK6"
   },
   "source": [
    "| result |\n",
    "| -----  |\n",
    "| <целое число> |"
   ]
  },
  {
   "cell_type": "code",
   "execution_count": 27,
   "metadata": {
    "id": "kZ7LXTr6DWK6"
   },
   "outputs": [],
   "source": [
    "# напишите запрос\n",
    "query = '''\n",
    "select ROUND(AVG(counter),0)::integer as result\n",
    "from (select user_id, date_trunc('day', creation_date)::date, count(id) as counter\n",
    "\tfrom stackoverflow.posts p\n",
    "\twhere date_trunc('day', creation_date)::date between '2008-12-01' and '2008-12-07'\n",
    "\tgroup by user_id, date_trunc('day', creation_date)::date\n",
    "\thaving count(id) > 0) as t\n",
    "'''\n",
    "\n",
    "# выполните запрос\n",
    "sixth_task = pd.read_sql_query(query, con=engine) "
   ]
  },
  {
   "cell_type": "markdown",
   "metadata": {
    "id": "2K5G3xuBDWK7"
   },
   "source": [
    "<details>\n",
    "\n",
    "<summary>Подсказка</summary>\n",
    "Посчитайте, сколько активных дней было у каждого пользователя. Добавьте данные во временную таблицу и используйте в основном запросе.\n",
    "</details>"
   ]
  },
  {
   "cell_type": "code",
   "execution_count": 28,
   "metadata": {
    "scrolled": true
   },
   "outputs": [
    {
     "data": {
      "text/html": [
       "<div>\n",
       "<style scoped>\n",
       "    .dataframe tbody tr th:only-of-type {\n",
       "        vertical-align: middle;\n",
       "    }\n",
       "\n",
       "    .dataframe tbody tr th {\n",
       "        vertical-align: top;\n",
       "    }\n",
       "\n",
       "    .dataframe thead th {\n",
       "        text-align: right;\n",
       "    }\n",
       "</style>\n",
       "<table border=\"1\" class=\"dataframe\">\n",
       "  <thead>\n",
       "    <tr style=\"text-align: right;\">\n",
       "      <th></th>\n",
       "      <th>result</th>\n",
       "    </tr>\n",
       "  </thead>\n",
       "  <tbody>\n",
       "    <tr>\n",
       "      <th>0</th>\n",
       "      <td>2</td>\n",
       "    </tr>\n",
       "  </tbody>\n",
       "</table>\n",
       "</div>"
      ],
      "text/plain": [
       "   result\n",
       "0       2"
      ]
     },
     "execution_count": 28,
     "metadata": {},
     "output_type": "execute_result"
    }
   ],
   "source": [
    "sixth_task.head()"
   ]
  },
  {
   "cell_type": "markdown",
   "metadata": {
    "id": "UJFtNNggDWK7"
   },
   "source": [
    "Проанализируйте итоговую таблицу — какие выводы можно сделать?"
   ]
  },
  {
   "cell_type": "markdown",
   "metadata": {
    "id": "LfUuYz-1DWK8"
   },
   "source": [
    "В среднем на пользователя приходится 2 поста. Вероятно есть много пользователей с одним постом и не очень большое колиичество пользователей большим количеством постов. А в среднем выходит 2"
   ]
  },
  {
   "cell_type": "code",
   "execution_count": 29,
   "metadata": {},
   "outputs": [],
   "source": [
    "del sixth_task"
   ]
  },
  {
   "cell_type": "markdown",
   "metadata": {
    "id": "wfOmqmfLDWK8"
   },
   "source": [
    "# Задание 7"
   ]
  },
  {
   "cell_type": "markdown",
   "metadata": {
    "id": "X4ARQimADWK9"
   },
   "source": [
    "Выведите историю активности каждого пользователя в таком виде: идентификатор пользователя, дата публикации поста. Отсортируйте вывод по возрастанию идентификаторов пользователей, а для каждого пользователя — по возрастанию даты публикации.\n",
    "\n",
    "Добавьте в таблицу новое поле: для каждого поста в нём будет указано название месяца предпоследней публикации пользователя относительно текущей. Если такой публикации нет, укажите `NULL`.  Python автоматически поменяет `NULL` на `None`, но дополнительно преобразовывать значения `None` вам не нужно.\n",
    "\n",
    "Посмотрите внимательно на образец таблицы: для первых двух постов предпоследней публикации нет, но, начиная с третьего поста, в новое поле входит нужный месяц. Для следующего пользователя в первые две записи поля `second_last_month` тоже войдёт `NULL`."
   ]
  },
  {
   "cell_type": "markdown",
   "metadata": {
    "id": "IGPjRP01DWK9"
   },
   "source": [
    "| user_id | creation_date | second_last_month |\n",
    "| ------- | ------------- | ----------------- |\n",
    "| 1       | 2008-07-31 23:41:00 | None |\n",
    "| 1       | 2008-07-31 23:55:38 | None |\n",
    "| 1       | 2008-07-31 23:56:41 | July |\n",
    "| 1       | 2008-08-04 02:45:08 | July |\n",
    "| 1       | 2008-08-04 04:31:03 | July |\n",
    "| 1       | 2008-08-04 08:04:42 | August |\n",
    "| ... | ... | ... |"
   ]
  },
  {
   "cell_type": "code",
   "execution_count": 30,
   "metadata": {
    "id": "HzI1vhaMDWK-"
   },
   "outputs": [],
   "source": [
    "# напишите запрос\n",
    "query = '''\n",
    "select id, user_id, creation_date, \n",
    "TO_CHAR(lag(creation_date, 2, NULL) over (partition by user_id order by id),'month') as second_last_month\n",
    "from stackoverflow.posts p\n",
    "order by user_id, creation_date\n",
    "'''\n",
    "\n",
    "# выполните запрос\n",
    "seventh_task = pd.read_sql_query(query, con=engine) "
   ]
  },
  {
   "cell_type": "markdown",
   "metadata": {
    "id": "7dqoKkncDWK_"
   },
   "source": [
    "<details>\n",
    "\n",
    "<summary>Подсказка</summary>\n",
    "Преобразовать результат оконной функции в нужное значение вам поможет аналог условного оператора в SQL: CASE <поле> WHEN <старое значение> THEN <новое значение> END.\n",
    "</details>"
   ]
  },
  {
   "cell_type": "code",
   "execution_count": 31,
   "metadata": {
    "scrolled": true
   },
   "outputs": [
    {
     "data": {
      "text/html": [
       "<div>\n",
       "<style scoped>\n",
       "    .dataframe tbody tr th:only-of-type {\n",
       "        vertical-align: middle;\n",
       "    }\n",
       "\n",
       "    .dataframe tbody tr th {\n",
       "        vertical-align: top;\n",
       "    }\n",
       "\n",
       "    .dataframe thead th {\n",
       "        text-align: right;\n",
       "    }\n",
       "</style>\n",
       "<table border=\"1\" class=\"dataframe\">\n",
       "  <thead>\n",
       "    <tr style=\"text-align: right;\">\n",
       "      <th></th>\n",
       "      <th>id</th>\n",
       "      <th>user_id</th>\n",
       "      <th>creation_date</th>\n",
       "      <th>second_last_month</th>\n",
       "    </tr>\n",
       "  </thead>\n",
       "  <tbody>\n",
       "    <tr>\n",
       "      <th>0</th>\n",
       "      <td>9</td>\n",
       "      <td>1</td>\n",
       "      <td>2008-07-31 23:41:00</td>\n",
       "      <td>None</td>\n",
       "    </tr>\n",
       "    <tr>\n",
       "      <th>1</th>\n",
       "      <td>11</td>\n",
       "      <td>1</td>\n",
       "      <td>2008-07-31 23:55:38</td>\n",
       "      <td>None</td>\n",
       "    </tr>\n",
       "    <tr>\n",
       "      <th>2</th>\n",
       "      <td>12</td>\n",
       "      <td>1</td>\n",
       "      <td>2008-07-31 23:56:41</td>\n",
       "      <td>july</td>\n",
       "    </tr>\n",
       "    <tr>\n",
       "      <th>3</th>\n",
       "      <td>986</td>\n",
       "      <td>1</td>\n",
       "      <td>2008-08-04 02:45:08</td>\n",
       "      <td>july</td>\n",
       "    </tr>\n",
       "    <tr>\n",
       "      <th>4</th>\n",
       "      <td>1016</td>\n",
       "      <td>1</td>\n",
       "      <td>2008-08-04 04:31:03</td>\n",
       "      <td>july</td>\n",
       "    </tr>\n",
       "  </tbody>\n",
       "</table>\n",
       "</div>"
      ],
      "text/plain": [
       "     id  user_id       creation_date second_last_month\n",
       "0     9        1 2008-07-31 23:41:00              None\n",
       "1    11        1 2008-07-31 23:55:38              None\n",
       "2    12        1 2008-07-31 23:56:41         july     \n",
       "3   986        1 2008-08-04 02:45:08         july     \n",
       "4  1016        1 2008-08-04 04:31:03         july     "
      ]
     },
     "execution_count": 31,
     "metadata": {},
     "output_type": "execute_result"
    }
   ],
   "source": [
    "seventh_task.head()"
   ]
  },
  {
   "cell_type": "code",
   "execution_count": 32,
   "metadata": {},
   "outputs": [],
   "source": [
    "del seventh_task"
   ]
  },
  {
   "cell_type": "markdown",
   "metadata": {
    "id": "tf9qq2yzDWK_"
   },
   "source": [
    "# Задание 8"
   ]
  },
  {
   "cell_type": "markdown",
   "metadata": {
    "id": "gfwLVXBYDWLA"
   },
   "source": [
    "Рассчитайте аналог Retention Rate по месяцам для пользователей StackOverflow. Объедините пользователей в когорты по месяцу их первого поста. Возвращение определяйте по наличию поста в текущем месяце. "
   ]
  },
  {
   "cell_type": "markdown",
   "metadata": {
    "id": "kN2ic39WlKpl"
   },
   "source": [
    "| cohort_dt | session_date | users_cnt | cohort_users_cnt | retention_rate |\n",
    "| --- | --- | --- | --- | --- |\n",
    "| 2008-07-01 00:00:00 | 2008-07-01 00:00:00 | 3 | 3 | 100 |\n",
    "| 2008-07-01 00:00:00 | 2008-08-01 00:00:00 | 2 | 3 | 66,67 |\n",
    "| 2008-07-01 00:00:00 | 2008-09-01 00:00:00 | 1 | 3 | 33,33 |\n",
    "| 2008-07-01 00:00:00 | 2008-10-01 00:00:00 | 2 | 3 | 66,67 |\n",
    "| 2008-07-01 00:00:00 | 2008-11-01 00:00:00 | 1 | 3 | 33,33 |\n",
    "| 2008-07-01 00:00:00 | 2008-12-01 00:00:00 | 2 | 3 | 66,67 |\n",
    "| 2008-08-01 00:00:00 | 2008-08-01 00:00:00 | 2151 | 2151 | 100 |\n",
    "| ... | ... | ... | ... | ... |"
   ]
  },
  {
   "cell_type": "code",
   "execution_count": 33,
   "metadata": {
    "id": "LUgFmwmTDWLB"
   },
   "outputs": [],
   "source": [
    "# напишите запрос\n",
    "query = '''\n",
    "with session_t as (\n",
    " \t\t\tselect user_id, date_trunc('month', creation_date) as session_date\n",
    " \t\t\tfrom stackoverflow.posts\n",
    " \t\t\tgroup by user_id, date_trunc('month', creation_date)),\n",
    " \t profile as (\n",
    " \t select *,\n",
    " \t COUNT(user_id) over (partition by cohort_dt) as cohort_users_cnt\n",
    " \t from (\n",
    " \t \t\tselect distinct user_id, \n",
    " \t \t\tfirst_value(date_trunc('month', creation_date)) over (partition by user_id order by creation_date) as cohort_dt\n",
    " \t \t\tfrom stackoverflow.posts) as t\n",
    " \t )\n",
    "select cohort_dt, session_date, COUNT(p.user_id) as users_cnt, cohort_users_cnt,\n",
    "ROUND(COUNT(p.user_id) * 100.0 / cohort_users_cnt, 2) AS retention_rate\n",
    "from profile p\n",
    "join session_t s on s.user_id =p.user_id\n",
    "group by cohort_dt, session_date, cohort_users_cnt\n",
    "order by cohort_dt, session_date\n",
    "'''\n",
    "\n",
    "# выполните запрос\n",
    "eighth_task = pd.read_sql_query(query, con=engine) "
   ]
  },
  {
   "cell_type": "markdown",
   "metadata": {
    "id": "Yavb5o9JDWLB"
   },
   "source": [
    "<details>\n",
    "\n",
    "<summary>Подсказка</summary>\n",
    "Вспомните, как выглядел запрос для расчёта Retention Rate в теории. Создайте две временные таблицы: `profile` и `sessions` (в ней будет информация о публикациях), а затем используйте их в основном запросе.\n",
    "\n",
    "Во временной таблице `profile` вам понадобятся три поля:\n",
    "\n",
    "- идентификатор пользователя;\n",
    "- дата первого поста пользователя, усечённая до месяца (признак начала когорты);\n",
    "- количество пользователей этой когорты.\n",
    "</details>"
   ]
  },
  {
   "cell_type": "code",
   "execution_count": 34,
   "metadata": {},
   "outputs": [
    {
     "data": {
      "text/html": [
       "<div>\n",
       "<style scoped>\n",
       "    .dataframe tbody tr th:only-of-type {\n",
       "        vertical-align: middle;\n",
       "    }\n",
       "\n",
       "    .dataframe tbody tr th {\n",
       "        vertical-align: top;\n",
       "    }\n",
       "\n",
       "    .dataframe thead th {\n",
       "        text-align: right;\n",
       "    }\n",
       "</style>\n",
       "<table border=\"1\" class=\"dataframe\">\n",
       "  <thead>\n",
       "    <tr style=\"text-align: right;\">\n",
       "      <th></th>\n",
       "      <th>cohort_dt</th>\n",
       "      <th>session_date</th>\n",
       "      <th>users_cnt</th>\n",
       "      <th>cohort_users_cnt</th>\n",
       "      <th>retention_rate</th>\n",
       "    </tr>\n",
       "  </thead>\n",
       "  <tbody>\n",
       "    <tr>\n",
       "      <th>0</th>\n",
       "      <td>2008-07-01</td>\n",
       "      <td>2008-07-01</td>\n",
       "      <td>3</td>\n",
       "      <td>3</td>\n",
       "      <td>100.00</td>\n",
       "    </tr>\n",
       "    <tr>\n",
       "      <th>1</th>\n",
       "      <td>2008-07-01</td>\n",
       "      <td>2008-08-01</td>\n",
       "      <td>2</td>\n",
       "      <td>3</td>\n",
       "      <td>66.67</td>\n",
       "    </tr>\n",
       "    <tr>\n",
       "      <th>2</th>\n",
       "      <td>2008-07-01</td>\n",
       "      <td>2008-09-01</td>\n",
       "      <td>1</td>\n",
       "      <td>3</td>\n",
       "      <td>33.33</td>\n",
       "    </tr>\n",
       "    <tr>\n",
       "      <th>3</th>\n",
       "      <td>2008-07-01</td>\n",
       "      <td>2008-10-01</td>\n",
       "      <td>2</td>\n",
       "      <td>3</td>\n",
       "      <td>66.67</td>\n",
       "    </tr>\n",
       "    <tr>\n",
       "      <th>4</th>\n",
       "      <td>2008-07-01</td>\n",
       "      <td>2008-11-01</td>\n",
       "      <td>1</td>\n",
       "      <td>3</td>\n",
       "      <td>33.33</td>\n",
       "    </tr>\n",
       "  </tbody>\n",
       "</table>\n",
       "</div>"
      ],
      "text/plain": [
       "   cohort_dt session_date  users_cnt  cohort_users_cnt  retention_rate\n",
       "0 2008-07-01   2008-07-01          3                 3          100.00\n",
       "1 2008-07-01   2008-08-01          2                 3           66.67\n",
       "2 2008-07-01   2008-09-01          1                 3           33.33\n",
       "3 2008-07-01   2008-10-01          2                 3           66.67\n",
       "4 2008-07-01   2008-11-01          1                 3           33.33"
      ]
     },
     "execution_count": 34,
     "metadata": {},
     "output_type": "execute_result"
    }
   ],
   "source": [
    "eighth_task.head()"
   ]
  },
  {
   "cell_type": "markdown",
   "metadata": {
    "id": "_msBtnb2DWLC"
   },
   "source": [
    "Постройте тепловую карту Retention Rate. Какие аномалии или другие необычные явления удалось выявить? Сформулируйте гипотезы о возможных причинах."
   ]
  },
  {
   "cell_type": "code",
   "execution_count": 35,
   "metadata": {
    "id": "qAEJc8H1DWLC"
   },
   "outputs": [
    {
     "data": {
      "text/html": [
       "<div>\n",
       "<style scoped>\n",
       "    .dataframe tbody tr th:only-of-type {\n",
       "        vertical-align: middle;\n",
       "    }\n",
       "\n",
       "    .dataframe tbody tr th {\n",
       "        vertical-align: top;\n",
       "    }\n",
       "\n",
       "    .dataframe thead th {\n",
       "        text-align: right;\n",
       "    }\n",
       "</style>\n",
       "<table border=\"1\" class=\"dataframe\">\n",
       "  <thead>\n",
       "    <tr style=\"text-align: right;\">\n",
       "      <th>session_date</th>\n",
       "      <th>2008-07-01</th>\n",
       "      <th>2008-08-01</th>\n",
       "      <th>2008-09-01</th>\n",
       "      <th>2008-10-01</th>\n",
       "      <th>2008-11-01</th>\n",
       "      <th>2008-12-01</th>\n",
       "    </tr>\n",
       "    <tr>\n",
       "      <th>cohort_dt</th>\n",
       "      <th></th>\n",
       "      <th></th>\n",
       "      <th></th>\n",
       "      <th></th>\n",
       "      <th></th>\n",
       "      <th></th>\n",
       "    </tr>\n",
       "  </thead>\n",
       "  <tbody>\n",
       "    <tr>\n",
       "      <th>2008-07-01</th>\n",
       "      <td>100.0</td>\n",
       "      <td>66.67</td>\n",
       "      <td>33.33</td>\n",
       "      <td>66.67</td>\n",
       "      <td>33.33</td>\n",
       "      <td>66.67</td>\n",
       "    </tr>\n",
       "    <tr>\n",
       "      <th>2008-08-01</th>\n",
       "      <td>NaN</td>\n",
       "      <td>100.00</td>\n",
       "      <td>73.04</td>\n",
       "      <td>59.27</td>\n",
       "      <td>48.81</td>\n",
       "      <td>41.56</td>\n",
       "    </tr>\n",
       "    <tr>\n",
       "      <th>2008-09-01</th>\n",
       "      <td>NaN</td>\n",
       "      <td>NaN</td>\n",
       "      <td>100.00</td>\n",
       "      <td>53.82</td>\n",
       "      <td>38.63</td>\n",
       "      <td>32.56</td>\n",
       "    </tr>\n",
       "    <tr>\n",
       "      <th>2008-10-01</th>\n",
       "      <td>NaN</td>\n",
       "      <td>NaN</td>\n",
       "      <td>NaN</td>\n",
       "      <td>100.00</td>\n",
       "      <td>45.19</td>\n",
       "      <td>33.65</td>\n",
       "    </tr>\n",
       "    <tr>\n",
       "      <th>2008-11-01</th>\n",
       "      <td>NaN</td>\n",
       "      <td>NaN</td>\n",
       "      <td>NaN</td>\n",
       "      <td>NaN</td>\n",
       "      <td>100.00</td>\n",
       "      <td>40.36</td>\n",
       "    </tr>\n",
       "  </tbody>\n",
       "</table>\n",
       "</div>"
      ],
      "text/plain": [
       "session_date  2008-07-01  2008-08-01  2008-09-01  2008-10-01  2008-11-01  \\\n",
       "cohort_dt                                                                  \n",
       "2008-07-01         100.0       66.67       33.33       66.67       33.33   \n",
       "2008-08-01           NaN      100.00       73.04       59.27       48.81   \n",
       "2008-09-01           NaN         NaN      100.00       53.82       38.63   \n",
       "2008-10-01           NaN         NaN         NaN      100.00       45.19   \n",
       "2008-11-01           NaN         NaN         NaN         NaN      100.00   \n",
       "\n",
       "session_date  2008-12-01  \n",
       "cohort_dt                 \n",
       "2008-07-01         66.67  \n",
       "2008-08-01         41.56  \n",
       "2008-09-01         32.56  \n",
       "2008-10-01         33.65  \n",
       "2008-11-01         40.36  "
      ]
     },
     "execution_count": 35,
     "metadata": {},
     "output_type": "execute_result"
    }
   ],
   "source": [
    "# постройте тепловую карту Retention Rate\n",
    "retention = eighth_task.pivot('cohort_dt', 'session_date', 'retention_rate')\n",
    "retention.head()"
   ]
  },
  {
   "cell_type": "code",
   "execution_count": 36,
   "metadata": {
    "id": "EgOfIsI4DWLC"
   },
   "outputs": [
    {
     "data": {
      "image/png": "[encoded data removed]",
      "text/plain": [
       "<Figure size 1152x1152 with 2 Axes>"
      ]
     },
     "metadata": {},
     "output_type": "display_data"
    }
   ],
   "source": [
    "# создаём сводную таблицу с результатами\n",
    "retention.index = [str(x)[0:10] for x in retention.index]\n",
    "retention.columns = [str(x)[0:10] for x in retention.columns]\n",
    "\n",
    "# строим хитмэп\n",
    "plt.figure(figsize=(16, 16)) # задаём размер графика\n",
    "sns.heatmap(retention, # датафрейм с данными\n",
    "            annot=True, # добавляем подписи\n",
    "            fmt='') # задаём исходный формат\n",
    "plt.title('Тепловая карта') # название графика\n",
    "plt.show()"
   ]
  },
  {
   "cell_type": "markdown",
   "metadata": {},
   "source": [
    "Июль совсем не показательный, это месяц когда пользователей было совсем мало. А вот по августу уже можно смотреть. Сентябрь - месяц начала работы после летних отпусков. Поэтому у пользователей зарегистрированных в августе интерес в сентябре сохраняется дотстаточно высокий. Фактически люди решают все отложенные летом вопросы. В остальных месяцах интерес падает быстрее, что на мой взгляд гараздно более похоже на правильный результат, к которому не примешаны отложенные вопросы."
   ]
  },
  {
   "cell_type": "code",
   "execution_count": 37,
   "metadata": {},
   "outputs": [],
   "source": [
    "del eighth_task"
   ]
  },
  {
   "cell_type": "markdown",
   "metadata": {
    "id": "1k7oPWt5DWLK"
   },
   "source": [
    "# Задание 9\n"
   ]
  },
  {
   "cell_type": "markdown",
   "metadata": {
    "id": "ALsYVSyRDWLM"
   },
   "source": [
    "На сколько процентов менялось количество постов ежемесячно с 1 сентября по 31 декабря 2008 года? Отобразите таблицу со следующими полями:\n",
    "\n",
    "- номер месяца;\n",
    "- количество постов за месяц;\n",
    "- процент, который показывает, насколько изменилось количество постов в текущем месяце по сравнению с предыдущим.\n",
    "\n",
    "Если постов стало меньше, значение процента должно быть отрицательным, если больше — положительным. Округлите значение процента до двух знаков после запятой.\n",
    "\n",
    "Напомним, что при делении одного целого числа на другое в PostgreSQL в результате получится целое число, округлённое до ближайшего целого вниз. Чтобы этого избежать, переведите делимое в тип `numeric`."
   ]
  },
  {
   "cell_type": "markdown",
   "metadata": {
    "id": "u4E2zF8DDWLM"
   },
   "source": [
    "| creation_month | posts_count | percentage |\n",
    "| -------------- | ----------- | ---------- |\n",
    "| 9 | 70731 | Nan |\n",
    "| 10 | 63102 | -10.33 |\n",
    "| ... | ... | ... |"
   ]
  },
  {
   "cell_type": "code",
   "execution_count": 38,
   "metadata": {
    "id": "Mb5pShStDWLN"
   },
   "outputs": [],
   "source": [
    "# напишите запрос\n",
    "query = '''\n",
    "select creation_month::integer, posts_count::integer, \n",
    "(posts_count - LAG(posts_count) over (order by creation_month::integer))/LAG(posts_count) over (order by creation_month::integer) as percentage\n",
    "from (select distinct date_part('month', creation_date) as creation_month, \n",
    "\t\t(COUNT(id) over (partition by date_part('month', creation_date)))::numeric as posts_count\n",
    "\t\tfrom stackoverflow.posts p\n",
    "\t\twhere date_trunc('day', creation_date)::date between '2008-09-01' and '2008-12-31' ) as t\n",
    "'''\n",
    "\n",
    "# выполните запрос\n",
    "ninth_task = pd.read_sql_query(query, con=engine) "
   ]
  },
  {
   "cell_type": "markdown",
   "metadata": {
    "id": "G0VSDL4HDWLO"
   },
   "source": [
    "<details>\n",
    "\n",
    "<summary>Подсказка</summary>\n",
    "Эту задачу стоит декомпозировать. Сформируйте запрос, который отобразит номер месяца и количество постов. Затем можно использовать оконную функцию, которая вернёт значение за предыдущий месяц, и посчитать процент.\n",
    "</details>"
   ]
  },
  {
   "cell_type": "code",
   "execution_count": 39,
   "metadata": {},
   "outputs": [
    {
     "data": {
      "text/html": [
       "<div>\n",
       "<style scoped>\n",
       "    .dataframe tbody tr th:only-of-type {\n",
       "        vertical-align: middle;\n",
       "    }\n",
       "\n",
       "    .dataframe tbody tr th {\n",
       "        vertical-align: top;\n",
       "    }\n",
       "\n",
       "    .dataframe thead th {\n",
       "        text-align: right;\n",
       "    }\n",
       "</style>\n",
       "<table border=\"1\" class=\"dataframe\">\n",
       "  <thead>\n",
       "    <tr style=\"text-align: right;\">\n",
       "      <th></th>\n",
       "      <th>creation_month</th>\n",
       "      <th>posts_count</th>\n",
       "      <th>percentage</th>\n",
       "    </tr>\n",
       "  </thead>\n",
       "  <tbody>\n",
       "    <tr>\n",
       "      <th>0</th>\n",
       "      <td>9</td>\n",
       "      <td>70371</td>\n",
       "      <td>NaN</td>\n",
       "    </tr>\n",
       "    <tr>\n",
       "      <th>1</th>\n",
       "      <td>10</td>\n",
       "      <td>63102</td>\n",
       "      <td>-0.103295</td>\n",
       "    </tr>\n",
       "    <tr>\n",
       "      <th>2</th>\n",
       "      <td>11</td>\n",
       "      <td>46975</td>\n",
       "      <td>-0.255570</td>\n",
       "    </tr>\n",
       "    <tr>\n",
       "      <th>3</th>\n",
       "      <td>12</td>\n",
       "      <td>44592</td>\n",
       "      <td>-0.050729</td>\n",
       "    </tr>\n",
       "  </tbody>\n",
       "</table>\n",
       "</div>"
      ],
      "text/plain": [
       "   creation_month  posts_count  percentage\n",
       "0               9        70371         NaN\n",
       "1              10        63102   -0.103295\n",
       "2              11        46975   -0.255570\n",
       "3              12        44592   -0.050729"
      ]
     },
     "execution_count": 39,
     "metadata": {},
     "output_type": "execute_result"
    }
   ],
   "source": [
    "ninth_task.head()"
   ]
  },
  {
   "cell_type": "markdown",
   "metadata": {
    "id": "9NQE2y_MDWLP"
   },
   "source": [
    "Постройте круговую диаграмму с количеством постов по месяцам."
   ]
  },
  {
   "cell_type": "code",
   "execution_count": 40,
   "metadata": {
    "id": "377ABjiVDWLP"
   },
   "outputs": [],
   "source": [
    "# постройте круговую диаграмму с количеством постов по месяцам"
   ]
  },
  {
   "cell_type": "code",
   "execution_count": 41,
   "metadata": {},
   "outputs": [
    {
     "data": {
      "image/png": "[encoded data removed]",
      "text/plain": [
       "<Figure size 432x288 with 1 Axes>"
      ]
     },
     "metadata": {},
     "output_type": "display_data"
    }
   ],
   "source": [
    "ninth_task['posts_count'].plot(kind='pie', labels = list(ninth_task['creation_month']), label = 'Соотношение количества постов')\n",
    "plt.title('Круговая диаграмма с количеством постов по месяцам')\n",
    "plt.show()"
   ]
  },
  {
   "cell_type": "code",
   "execution_count": 42,
   "metadata": {},
   "outputs": [],
   "source": [
    "del ninth_task"
   ]
  },
  {
   "cell_type": "markdown",
   "metadata": {
    "id": "uw7qMtafDWLP"
   },
   "source": [
    "# Задание 10"
   ]
  },
  {
   "cell_type": "markdown",
   "metadata": {
    "id": "oRBpWKx3DWLQ"
   },
   "source": [
    "Выгрузите данные активности пользователя, который опубликовал больше всего постов за всё время. Выведите данные за октябрь 2008 года в таком виде:\n",
    "\n",
    "- номер недели;\n",
    "- дата и время последнего поста, опубликованного на этой неделе."
   ]
  },
  {
   "cell_type": "markdown",
   "metadata": {
    "id": "XjAWSn_3DWLQ"
   },
   "source": [
    "| week_creation | creation_date |\n",
    "| ------------- | ------------- |\n",
    "| 40 | 2008-10-05 09:00:58 |\n",
    "| 41 | 2008-10-12 21:22:23 |\n",
    "| ... | ... |"
   ]
  },
  {
   "cell_type": "code",
   "execution_count": 43,
   "metadata": {
    "id": "r5F5fSkwDWLQ"
   },
   "outputs": [],
   "source": [
    "# напишите запрос\n",
    "query = '''\n",
    "select distinct DATE_PART('week', creation_date::date)::integer as week_creation,\n",
    "MAX(creation_date) over (partition by DATE_PART('week', creation_date::date))\n",
    "from stackoverflow.posts p1\n",
    "where user_id in (\n",
    "\t\t\tselect distinct first_value(user_id) OVER()\t\n",
    "\t\t\tfrom(select user_id, COUNT(id) as cntr\n",
    "\t\t\t\t\tfrom stackoverflow.posts p\n",
    "\t\t\t\t\tgroup by user_id\n",
    "\t\t\t\t\torder by cntr desc) as t\n",
    "\t\t\t\t\t)\n",
    "and date_trunc('day', creation_date)::date between '2008-10-01' and '2008-10-31'\n",
    "'''\n",
    "\n",
    "# выполните запрос\n",
    "tenth_task = pd.read_sql_query(query, con=engine) "
   ]
  },
  {
   "cell_type": "code",
   "execution_count": 44,
   "metadata": {},
   "outputs": [
    {
     "data": {
      "text/html": [
       "<div>\n",
       "<style scoped>\n",
       "    .dataframe tbody tr th:only-of-type {\n",
       "        vertical-align: middle;\n",
       "    }\n",
       "\n",
       "    .dataframe tbody tr th {\n",
       "        vertical-align: top;\n",
       "    }\n",
       "\n",
       "    .dataframe thead th {\n",
       "        text-align: right;\n",
       "    }\n",
       "</style>\n",
       "<table border=\"1\" class=\"dataframe\">\n",
       "  <thead>\n",
       "    <tr style=\"text-align: right;\">\n",
       "      <th></th>\n",
       "      <th>week_creation</th>\n",
       "      <th>max</th>\n",
       "    </tr>\n",
       "  </thead>\n",
       "  <tbody>\n",
       "    <tr>\n",
       "      <th>0</th>\n",
       "      <td>40</td>\n",
       "      <td>2008-10-05 09:00:58</td>\n",
       "    </tr>\n",
       "    <tr>\n",
       "      <th>1</th>\n",
       "      <td>41</td>\n",
       "      <td>2008-10-12 21:22:23</td>\n",
       "    </tr>\n",
       "    <tr>\n",
       "      <th>2</th>\n",
       "      <td>42</td>\n",
       "      <td>2008-10-19 06:49:30</td>\n",
       "    </tr>\n",
       "    <tr>\n",
       "      <th>3</th>\n",
       "      <td>43</td>\n",
       "      <td>2008-10-26 21:44:36</td>\n",
       "    </tr>\n",
       "    <tr>\n",
       "      <th>4</th>\n",
       "      <td>44</td>\n",
       "      <td>2008-10-31 22:16:01</td>\n",
       "    </tr>\n",
       "  </tbody>\n",
       "</table>\n",
       "</div>"
      ],
      "text/plain": [
       "   week_creation                 max\n",
       "0             40 2008-10-05 09:00:58\n",
       "1             41 2008-10-12 21:22:23\n",
       "2             42 2008-10-19 06:49:30\n",
       "3             43 2008-10-26 21:44:36\n",
       "4             44 2008-10-31 22:16:01"
      ]
     },
     "execution_count": 44,
     "metadata": {},
     "output_type": "execute_result"
    }
   ],
   "source": [
    "tenth_task.head()"
   ]
  },
  {
   "cell_type": "markdown",
   "metadata": {
    "id": "KAcmxvLgDWLR"
   },
   "source": [
    "<details>\n",
    "\n",
    "<summary>Подсказка</summary>\n",
    "Декомпозируйте задачу:\n",
    "1) Найдите пользователя, который опубликовал больше всего постов. 2) Найдите дату и время создания каждого поста этого пользователя и номер недели. \n",
    "3) Отобразите данные только о последних постах пользователя. Для этого можно использовать оконную функцию.\n",
    "</details>"
   ]
  },
  {
   "cell_type": "code",
   "execution_count": 45,
   "metadata": {},
   "outputs": [],
   "source": [
    "del tenth_task"
   ]
  },
  {
   "cell_type": "markdown",
   "metadata": {},
   "source": [
    "# Вывод"
   ]
  },
  {
   "cell_type": "markdown",
   "metadata": {},
   "source": [
    "Выполнено 10 заданий. Постоено 6 графиков. Отработаны на практике оконные функции и сложные запросы."
   ]
  }
 ],
 "metadata": {
  "ExecuteTimeLog": [
   {
    "duration": 953,
    "start_time": "2022-08-17T14:24:32.389Z"
   },
   {
    "duration": 4,
    "start_time": "2022-08-17T14:24:33.387Z"
   },
   {
    "duration": 9262,
    "start_time": "2022-08-17T14:24:34.396Z"
   },
   {
    "duration": 209,
    "start_time": "2022-08-17T14:24:43.660Z"
   },
   {
    "duration": 15,
    "start_time": "2022-08-17T14:24:43.871Z"
   },
   {
    "duration": 1548,
    "start_time": "2022-08-18T10:28:02.680Z"
   },
   {
    "duration": 4,
    "start_time": "2022-08-18T10:28:04.231Z"
   },
   {
    "duration": 10204,
    "start_time": "2022-08-18T10:28:04.247Z"
   },
   {
    "duration": 53,
    "start_time": "2022-08-18T10:28:14.453Z"
   },
   {
    "duration": 16,
    "start_time": "2022-08-18T10:28:14.508Z"
   },
   {
    "duration": 2,
    "start_time": "2022-08-18T10:37:18.802Z"
   },
   {
    "duration": 321,
    "start_time": "2022-08-18T10:37:42.641Z"
   },
   {
    "duration": 119,
    "start_time": "2022-08-18T10:38:04.718Z"
   },
   {
    "duration": 179,
    "start_time": "2022-08-18T10:38:24.917Z"
   },
   {
    "duration": 8,
    "start_time": "2022-08-18T10:38:51.668Z"
   },
   {
    "duration": 7,
    "start_time": "2022-08-18T10:38:59.258Z"
   },
   {
    "duration": 157,
    "start_time": "2022-08-18T10:39:14.301Z"
   },
   {
    "duration": 154,
    "start_time": "2022-08-18T10:39:36.845Z"
   },
   {
    "duration": 8,
    "start_time": "2022-08-18T10:39:53.444Z"
   },
   {
    "duration": 152,
    "start_time": "2022-08-18T10:40:09.781Z"
   },
   {
    "duration": 7,
    "start_time": "2022-08-18T10:40:35.938Z"
   },
   {
    "duration": 8,
    "start_time": "2022-08-18T10:40:40.864Z"
   },
   {
    "duration": 131,
    "start_time": "2022-08-18T10:41:16.238Z"
   },
   {
    "duration": 166,
    "start_time": "2022-08-18T10:41:29.008Z"
   },
   {
    "duration": 14,
    "start_time": "2022-08-18T10:41:36.141Z"
   },
   {
    "duration": 11,
    "start_time": "2022-08-18T10:41:42.976Z"
   },
   {
    "duration": 140,
    "start_time": "2022-08-18T10:41:54.481Z"
   },
   {
    "duration": 162,
    "start_time": "2022-08-18T10:44:09.518Z"
   },
   {
    "duration": 346,
    "start_time": "2022-08-18T10:44:20.233Z"
   },
   {
    "duration": 236,
    "start_time": "2022-08-18T10:44:29.069Z"
   },
   {
    "duration": 236,
    "start_time": "2022-08-18T10:44:40.955Z"
   },
   {
    "duration": 229,
    "start_time": "2022-08-18T11:27:12.514Z"
   },
   {
    "duration": 89,
    "start_time": "2022-08-18T11:27:24.779Z"
   },
   {
    "duration": 272,
    "start_time": "2022-08-18T11:27:29.814Z"
   },
   {
    "duration": 256,
    "start_time": "2022-08-18T11:27:34.034Z"
   },
   {
    "duration": 272,
    "start_time": "2022-08-18T11:30:38.725Z"
   },
   {
    "duration": 265,
    "start_time": "2022-08-18T11:30:54.881Z"
   },
   {
    "duration": 298,
    "start_time": "2022-08-18T11:31:01.584Z"
   },
   {
    "duration": 3,
    "start_time": "2022-08-18T11:52:40.193Z"
   },
   {
    "duration": 3,
    "start_time": "2022-08-18T11:53:31.997Z"
   },
   {
    "duration": 183,
    "start_time": "2022-08-18T11:53:34.628Z"
   },
   {
    "duration": 138,
    "start_time": "2022-08-18T11:53:54.532Z"
   },
   {
    "duration": 7,
    "start_time": "2022-08-18T11:54:03.992Z"
   },
   {
    "duration": 10,
    "start_time": "2022-08-18T11:55:08.448Z"
   },
   {
    "duration": 323,
    "start_time": "2022-08-18T11:55:21.932Z"
   },
   {
    "duration": 395,
    "start_time": "2022-08-18T12:03:21.918Z"
   },
   {
    "duration": 401,
    "start_time": "2022-08-18T12:03:26.730Z"
   },
   {
    "duration": 311,
    "start_time": "2022-08-18T12:03:35.545Z"
   },
   {
    "duration": 276,
    "start_time": "2022-08-18T12:04:23.432Z"
   },
   {
    "duration": 2,
    "start_time": "2022-08-18T12:06:16.260Z"
   },
   {
    "duration": 11,
    "start_time": "2022-08-18T12:06:39.430Z"
   },
   {
    "duration": 12,
    "start_time": "2022-08-18T12:07:00.304Z"
   },
   {
    "duration": 10,
    "start_time": "2022-08-18T12:07:14.705Z"
   },
   {
    "duration": 1632,
    "start_time": "2022-08-18T12:07:54.900Z"
   },
   {
    "duration": 3985,
    "start_time": "2022-08-18T12:08:20.452Z"
   },
   {
    "duration": 306,
    "start_time": "2022-08-18T12:08:46.116Z"
   },
   {
    "duration": 10,
    "start_time": "2022-08-18T12:09:25.146Z"
   },
   {
    "duration": 107,
    "start_time": "2022-08-18T12:09:54.724Z"
   },
   {
    "duration": 16,
    "start_time": "2022-08-18T12:09:59.985Z"
   },
   {
    "duration": 11,
    "start_time": "2022-08-18T12:10:08.614Z"
   },
   {
    "duration": 315,
    "start_time": "2022-08-18T12:10:53.083Z"
   },
   {
    "duration": 339,
    "start_time": "2022-08-18T12:11:16.977Z"
   },
   {
    "duration": 394,
    "start_time": "2022-08-18T12:11:34.319Z"
   },
   {
    "duration": 169,
    "start_time": "2022-08-18T12:11:59.122Z"
   },
   {
    "duration": 11,
    "start_time": "2022-08-18T12:12:07.684Z"
   },
   {
    "duration": 12,
    "start_time": "2022-08-18T12:18:35.096Z"
   },
   {
    "duration": 8,
    "start_time": "2022-08-18T12:18:38.661Z"
   },
   {
    "duration": 13,
    "start_time": "2022-08-18T12:18:51.262Z"
   },
   {
    "duration": 12,
    "start_time": "2022-08-18T12:19:02.939Z"
   },
   {
    "duration": 15,
    "start_time": "2022-08-18T12:19:15.592Z"
   },
   {
    "duration": 738,
    "start_time": "2022-08-18T12:19:32.721Z"
   },
   {
    "duration": 715,
    "start_time": "2022-08-18T12:19:38.728Z"
   },
   {
    "duration": 7,
    "start_time": "2022-08-18T12:19:51.824Z"
   },
   {
    "duration": 5,
    "start_time": "2022-08-18T12:20:23.765Z"
   },
   {
    "duration": 6,
    "start_time": "2022-08-18T12:20:39.730Z"
   },
   {
    "duration": 6,
    "start_time": "2022-08-18T12:20:56.519Z"
   },
   {
    "duration": 9,
    "start_time": "2022-08-18T12:21:06.065Z"
   },
   {
    "duration": 5,
    "start_time": "2022-08-18T12:21:14.784Z"
   },
   {
    "duration": 6,
    "start_time": "2022-08-18T12:21:48.220Z"
   },
   {
    "duration": 6,
    "start_time": "2022-08-18T12:22:02.793Z"
   },
   {
    "duration": 5,
    "start_time": "2022-08-18T12:22:10.819Z"
   },
   {
    "duration": 4,
    "start_time": "2022-08-18T12:22:16.115Z"
   },
   {
    "duration": 6,
    "start_time": "2022-08-18T12:22:24.783Z"
   },
   {
    "duration": 6,
    "start_time": "2022-08-18T12:22:32.237Z"
   },
   {
    "duration": 10,
    "start_time": "2022-08-18T12:22:37.223Z"
   },
   {
    "duration": 11,
    "start_time": "2022-08-18T12:24:40.656Z"
   },
   {
    "duration": 7,
    "start_time": "2022-08-18T12:25:09.496Z"
   },
   {
    "duration": 5,
    "start_time": "2022-08-18T12:25:26.568Z"
   },
   {
    "duration": 6,
    "start_time": "2022-08-18T12:25:49.269Z"
   },
   {
    "duration": 1393,
    "start_time": "2022-08-18T12:26:51.063Z"
   },
   {
    "duration": 4,
    "start_time": "2022-08-18T12:26:52.458Z"
   },
   {
    "duration": 9624,
    "start_time": "2022-08-18T12:26:52.464Z"
   },
   {
    "duration": 59,
    "start_time": "2022-08-18T12:27:02.090Z"
   },
   {
    "duration": 15,
    "start_time": "2022-08-18T12:27:02.151Z"
   },
   {
    "duration": 1117,
    "start_time": "2022-08-18T12:27:02.168Z"
   },
   {
    "duration": 337,
    "start_time": "2022-08-18T12:27:03.287Z"
   },
   {
    "duration": 3,
    "start_time": "2022-08-18T12:27:03.626Z"
   },
   {
    "duration": 2943,
    "start_time": "2022-08-18T12:27:03.631Z"
   },
   {
    "duration": 295,
    "start_time": "2022-08-18T12:27:06.577Z"
   },
   {
    "duration": 19,
    "start_time": "2022-08-18T12:27:06.875Z"
   },
   {
    "duration": 130,
    "start_time": "2022-08-18T12:27:06.896Z"
   },
   {
    "duration": 8,
    "start_time": "2022-08-18T12:27:07.028Z"
   },
   {
    "duration": 8,
    "start_time": "2022-08-18T12:27:07.038Z"
   },
   {
    "duration": 6,
    "start_time": "2022-08-18T12:27:07.048Z"
   },
   {
    "duration": 6,
    "start_time": "2022-08-18T12:27:07.056Z"
   },
   {
    "duration": 5,
    "start_time": "2022-08-18T12:27:07.064Z"
   },
   {
    "duration": 3,
    "start_time": "2022-08-18T12:27:07.091Z"
   },
   {
    "duration": 5,
    "start_time": "2022-08-18T12:27:07.096Z"
   },
   {
    "duration": 5,
    "start_time": "2022-08-18T12:27:07.102Z"
   },
   {
    "duration": 5,
    "start_time": "2022-08-18T12:27:07.109Z"
   },
   {
    "duration": 6,
    "start_time": "2022-08-18T12:27:07.116Z"
   },
   {
    "duration": 11,
    "start_time": "2022-08-18T12:27:07.123Z"
   },
   {
    "duration": 6,
    "start_time": "2022-08-18T12:27:07.136Z"
   },
   {
    "duration": 9,
    "start_time": "2022-08-18T12:27:07.143Z"
   },
   {
    "duration": 12,
    "start_time": "2022-08-18T12:27:07.154Z"
   },
   {
    "duration": 6,
    "start_time": "2022-08-18T12:27:07.168Z"
   },
   {
    "duration": 2,
    "start_time": "2022-08-18T12:28:11.020Z"
   },
   {
    "duration": 1300,
    "start_time": "2022-08-23T15:57:44.957Z"
   },
   {
    "duration": 3,
    "start_time": "2022-08-23T15:57:46.259Z"
   },
   {
    "duration": 5503,
    "start_time": "2022-08-23T15:57:46.811Z"
   },
   {
    "duration": 198,
    "start_time": "2022-08-23T15:57:52.316Z"
   },
   {
    "duration": 14,
    "start_time": "2022-08-23T15:57:52.515Z"
   },
   {
    "duration": 140,
    "start_time": "2022-08-23T15:57:52.530Z"
   },
   {
    "duration": 272,
    "start_time": "2022-08-23T15:57:52.671Z"
   },
   {
    "duration": 2,
    "start_time": "2022-08-23T15:57:54.881Z"
   },
   {
    "duration": 181,
    "start_time": "2022-08-23T15:58:00.940Z"
   },
   {
    "duration": 228,
    "start_time": "2022-08-23T15:58:03.876Z"
   },
   {
    "duration": 8,
    "start_time": "2022-08-23T15:58:07.576Z"
   },
   {
    "duration": 97,
    "start_time": "2022-08-23T15:58:09.916Z"
   },
   {
    "duration": 8,
    "start_time": "2022-08-23T15:58:11.591Z"
   },
   {
    "duration": 5,
    "start_time": "2022-08-23T15:58:12.903Z"
   },
   {
    "duration": 4,
    "start_time": "2022-08-23T15:58:14.391Z"
   },
   {
    "duration": 50,
    "start_time": "2022-08-24T06:04:42.579Z"
   },
   {
    "duration": 1401,
    "start_time": "2022-08-24T06:04:48.485Z"
   },
   {
    "duration": 4,
    "start_time": "2022-08-24T06:04:49.888Z"
   },
   {
    "duration": 9643,
    "start_time": "2022-08-24T06:04:49.893Z"
   },
   {
    "duration": 53,
    "start_time": "2022-08-24T06:04:59.538Z"
   },
   {
    "duration": 15,
    "start_time": "2022-08-24T06:04:59.592Z"
   },
   {
    "duration": 114,
    "start_time": "2022-08-24T06:04:59.609Z"
   },
   {
    "duration": 305,
    "start_time": "2022-08-24T06:04:59.725Z"
   },
   {
    "duration": 2,
    "start_time": "2022-08-24T06:05:00.033Z"
   },
   {
    "duration": 147,
    "start_time": "2022-08-24T06:05:00.036Z"
   },
   {
    "duration": 273,
    "start_time": "2022-08-24T06:05:00.184Z"
   },
   {
    "duration": 14,
    "start_time": "2022-08-24T06:05:00.459Z"
   },
   {
    "duration": 140,
    "start_time": "2022-08-24T06:05:00.475Z"
   },
   {
    "duration": 8,
    "start_time": "2022-08-24T06:05:00.617Z"
   },
   {
    "duration": 8,
    "start_time": "2022-08-24T06:05:00.626Z"
   },
   {
    "duration": 11,
    "start_time": "2022-08-24T06:05:00.636Z"
   },
   {
    "duration": 111,
    "start_time": "2022-08-24T06:05:08.616Z"
   },
   {
    "duration": 7,
    "start_time": "2022-08-24T06:05:54.526Z"
   },
   {
    "duration": 84,
    "start_time": "2022-08-24T06:24:29.776Z"
   },
   {
    "duration": 1198,
    "start_time": "2022-08-24T06:24:34.228Z"
   },
   {
    "duration": 9,
    "start_time": "2022-08-24T06:24:37.645Z"
   },
   {
    "duration": 1071,
    "start_time": "2022-08-24T06:25:06.641Z"
   },
   {
    "duration": 9,
    "start_time": "2022-08-24T07:27:16.879Z"
   },
   {
    "duration": 45,
    "start_time": "2022-08-24T07:27:20.866Z"
   },
   {
    "duration": 7,
    "start_time": "2022-08-24T07:27:21.677Z"
   },
   {
    "duration": 34,
    "start_time": "2022-08-24T07:27:57.257Z"
   },
   {
    "duration": 10,
    "start_time": "2022-08-24T07:28:30.016Z"
   },
   {
    "duration": 37,
    "start_time": "2022-08-24T07:28:33.564Z"
   },
   {
    "duration": 7,
    "start_time": "2022-08-24T07:28:34.568Z"
   },
   {
    "duration": 39,
    "start_time": "2022-08-24T07:28:59.062Z"
   },
   {
    "duration": 7,
    "start_time": "2022-08-24T07:29:00.634Z"
   },
   {
    "duration": 34,
    "start_time": "2022-08-24T07:29:26.148Z"
   },
   {
    "duration": 7,
    "start_time": "2022-08-24T07:29:28.080Z"
   },
   {
    "duration": 21,
    "start_time": "2022-08-24T08:39:36.262Z"
   },
   {
    "duration": 1209,
    "start_time": "2022-08-24T08:39:39.422Z"
   },
   {
    "duration": 9,
    "start_time": "2022-08-24T08:39:41.033Z"
   },
   {
    "duration": 10,
    "start_time": "2022-08-24T13:33:28.455Z"
   },
   {
    "duration": 113,
    "start_time": "2022-08-24T13:33:30.797Z"
   },
   {
    "duration": 9,
    "start_time": "2022-08-24T13:33:31.557Z"
   },
   {
    "duration": 123,
    "start_time": "2022-08-24T13:33:57.066Z"
   },
   {
    "duration": 8,
    "start_time": "2022-08-24T13:33:57.435Z"
   },
   {
    "duration": 9,
    "start_time": "2022-08-24T13:49:14.382Z"
   },
   {
    "duration": 244,
    "start_time": "2022-08-24T13:49:16.824Z"
   },
   {
    "duration": 9,
    "start_time": "2022-08-24T13:49:17.555Z"
   },
   {
    "duration": 477,
    "start_time": "2022-08-24T14:22:09.883Z"
   },
   {
    "duration": 10,
    "start_time": "2022-08-24T14:22:19.608Z"
   },
   {
    "duration": 495,
    "start_time": "2022-08-24T14:22:52.968Z"
   },
   {
    "duration": 12,
    "start_time": "2022-08-24T14:22:53.993Z"
   },
   {
    "duration": 3,
    "start_time": "2022-08-24T14:23:06.922Z"
   },
   {
    "duration": 4,
    "start_time": "2022-08-24T14:23:07.899Z"
   },
   {
    "duration": 4,
    "start_time": "2022-08-24T14:23:08.338Z"
   },
   {
    "duration": 54,
    "start_time": "2022-08-24T14:23:08.636Z"
   },
   {
    "duration": 15,
    "start_time": "2022-08-24T14:23:08.811Z"
   },
   {
    "duration": 118,
    "start_time": "2022-08-24T14:23:09.393Z"
   },
   {
    "duration": 236,
    "start_time": "2022-08-24T14:23:09.644Z"
   },
   {
    "duration": 2,
    "start_time": "2022-08-24T14:23:09.929Z"
   },
   {
    "duration": 151,
    "start_time": "2022-08-24T14:23:10.578Z"
   },
   {
    "duration": 290,
    "start_time": "2022-08-24T14:23:11.080Z"
   },
   {
    "duration": 8,
    "start_time": "2022-08-24T14:23:11.551Z"
   },
   {
    "duration": 110,
    "start_time": "2022-08-24T14:23:12.077Z"
   },
   {
    "duration": 9,
    "start_time": "2022-08-24T14:23:12.457Z"
   },
   {
    "duration": 5,
    "start_time": "2022-08-24T14:23:12.812Z"
   },
   {
    "duration": 3,
    "start_time": "2022-08-24T14:23:13.133Z"
   },
   {
    "duration": 129,
    "start_time": "2022-08-24T14:23:13.871Z"
   },
   {
    "duration": 7,
    "start_time": "2022-08-24T14:23:14.051Z"
   },
   {
    "duration": 2,
    "start_time": "2022-08-24T14:23:14.353Z"
   },
   {
    "duration": 2,
    "start_time": "2022-08-24T14:23:14.549Z"
   },
   {
    "duration": 1060,
    "start_time": "2022-08-24T14:23:15.258Z"
   },
   {
    "duration": 7,
    "start_time": "2022-08-24T14:23:16.320Z"
   },
   {
    "duration": 6,
    "start_time": "2022-08-24T14:23:16.329Z"
   },
   {
    "duration": 52,
    "start_time": "2022-08-24T14:23:16.643Z"
   },
   {
    "duration": 9,
    "start_time": "2022-08-24T14:23:16.967Z"
   },
   {
    "duration": 36,
    "start_time": "2022-08-24T14:23:17.680Z"
   },
   {
    "duration": 7,
    "start_time": "2022-08-24T14:23:18.028Z"
   },
   {
    "duration": 2,
    "start_time": "2022-08-24T14:23:18.337Z"
   },
   {
    "duration": 1158,
    "start_time": "2022-08-24T14:23:19.134Z"
   },
   {
    "duration": 8,
    "start_time": "2022-08-24T14:23:20.294Z"
   },
   {
    "duration": 471,
    "start_time": "2022-08-24T14:23:20.304Z"
   },
   {
    "duration": 9,
    "start_time": "2022-08-24T14:23:20.777Z"
   },
   {
    "duration": 2,
    "start_time": "2022-08-24T14:23:21.677Z"
   },
   {
    "duration": 3,
    "start_time": "2022-08-24T14:23:22.052Z"
   },
   {
    "duration": 232,
    "start_time": "2022-08-24T14:23:23.837Z"
   },
   {
    "duration": 8,
    "start_time": "2022-08-24T14:23:24.720Z"
   },
   {
    "duration": 3,
    "start_time": "2022-08-24T14:23:25.630Z"
   },
   {
    "duration": 113,
    "start_time": "2022-08-24T14:23:27.412Z"
   },
   {
    "duration": 7,
    "start_time": "2022-08-24T14:23:27.883Z"
   },
   {
    "duration": 3,
    "start_time": "2022-08-24T14:24:45.721Z"
   },
   {
    "duration": 5,
    "start_time": "2022-08-24T14:24:46.597Z"
   },
   {
    "duration": 3,
    "start_time": "2022-08-24T14:24:50.198Z"
   },
   {
    "duration": 65,
    "start_time": "2022-08-24T14:24:52.094Z"
   },
   {
    "duration": 11,
    "start_time": "2022-08-24T14:24:54.608Z"
   },
   {
    "duration": 117,
    "start_time": "2022-08-24T14:25:11.035Z"
   },
   {
    "duration": 223,
    "start_time": "2022-08-24T14:25:20.617Z"
   },
   {
    "duration": 3,
    "start_time": "2022-08-24T14:25:22.255Z"
   },
   {
    "duration": 144,
    "start_time": "2022-08-24T14:25:25.039Z"
   },
   {
    "duration": 292,
    "start_time": "2022-08-24T14:25:27.114Z"
   },
   {
    "duration": 10,
    "start_time": "2022-08-24T14:25:28.578Z"
   },
   {
    "duration": 115,
    "start_time": "2022-08-24T14:25:30.821Z"
   },
   {
    "duration": 8,
    "start_time": "2022-08-24T14:25:32.161Z"
   },
   {
    "duration": 5,
    "start_time": "2022-08-24T14:25:33.173Z"
   },
   {
    "duration": 3,
    "start_time": "2022-08-24T14:25:34.550Z"
   },
   {
    "duration": 112,
    "start_time": "2022-08-24T14:25:39.048Z"
   },
   {
    "duration": 8,
    "start_time": "2022-08-24T14:25:41.899Z"
   },
   {
    "duration": 166,
    "start_time": "2022-08-24T14:26:14.314Z"
   },
   {
    "duration": 186,
    "start_time": "2022-08-24T14:26:56.224Z"
   },
   {
    "duration": 9,
    "start_time": "2022-08-24T14:27:55.901Z"
   },
   {
    "duration": 140,
    "start_time": "2022-08-24T14:28:12.731Z"
   },
   {
    "duration": 345,
    "start_time": "2022-08-24T14:28:26.552Z"
   },
   {
    "duration": 276,
    "start_time": "2022-08-24T15:40:19.648Z"
   },
   {
    "duration": 270,
    "start_time": "2022-08-24T15:40:54.805Z"
   },
   {
    "duration": 273,
    "start_time": "2022-08-24T15:41:10.344Z"
   },
   {
    "duration": 273,
    "start_time": "2022-08-24T15:41:51.094Z"
   },
   {
    "duration": 287,
    "start_time": "2022-08-24T15:42:03.584Z"
   },
   {
    "duration": 290,
    "start_time": "2022-08-24T15:42:22.421Z"
   },
   {
    "duration": 266,
    "start_time": "2022-08-24T15:42:29.182Z"
   },
   {
    "duration": 288,
    "start_time": "2022-08-24T15:42:37.574Z"
   },
   {
    "duration": 390,
    "start_time": "2022-08-24T15:42:54.272Z"
   },
   {
    "duration": 298,
    "start_time": "2022-08-24T15:43:08.587Z"
   },
   {
    "duration": 282,
    "start_time": "2022-08-24T15:43:38.149Z"
   },
   {
    "duration": 296,
    "start_time": "2022-08-24T15:43:55.367Z"
   },
   {
    "duration": 306,
    "start_time": "2022-08-24T15:44:35.636Z"
   },
   {
    "duration": 114,
    "start_time": "2022-08-24T15:47:07.228Z"
   },
   {
    "duration": 7,
    "start_time": "2022-08-24T15:47:07.669Z"
   },
   {
    "duration": 114,
    "start_time": "2022-08-24T15:47:20.982Z"
   },
   {
    "duration": 7,
    "start_time": "2022-08-24T15:47:21.932Z"
   },
   {
    "duration": 23,
    "start_time": "2022-08-24T15:48:20.165Z"
   },
   {
    "duration": 7,
    "start_time": "2022-08-24T15:48:20.671Z"
   },
   {
    "duration": 117,
    "start_time": "2022-08-24T15:48:33.717Z"
   },
   {
    "duration": 117,
    "start_time": "2022-08-24T16:05:32.641Z"
   },
   {
    "duration": 7,
    "start_time": "2022-08-24T16:05:33.085Z"
   },
   {
    "duration": 3,
    "start_time": "2022-08-24T16:10:39.046Z"
   },
   {
    "duration": 1232,
    "start_time": "2022-08-24T16:10:53.286Z"
   },
   {
    "duration": 14,
    "start_time": "2022-08-24T16:10:54.566Z"
   },
   {
    "duration": 3,
    "start_time": "2022-08-24T16:11:02.112Z"
   },
   {
    "duration": 47,
    "start_time": "2022-08-24T16:11:14.819Z"
   },
   {
    "duration": 9,
    "start_time": "2022-08-24T16:11:16.179Z"
   },
   {
    "duration": 2,
    "start_time": "2022-08-24T16:11:18.870Z"
   },
   {
    "duration": 3,
    "start_time": "2022-08-24T16:15:05.785Z"
   },
   {
    "duration": 1310,
    "start_time": "2022-08-24T16:15:12.878Z"
   },
   {
    "duration": 9,
    "start_time": "2022-08-24T16:15:14.924Z"
   },
   {
    "duration": 3,
    "start_time": "2022-08-24T16:15:15.449Z"
   },
   {
    "duration": 475,
    "start_time": "2022-08-24T16:15:17.412Z"
   },
   {
    "duration": 10,
    "start_time": "2022-08-24T16:15:19.821Z"
   },
   {
    "duration": 10,
    "start_time": "2022-08-24T16:16:08.418Z"
   },
   {
    "duration": 460,
    "start_time": "2022-08-24T16:16:25.511Z"
   },
   {
    "duration": 9,
    "start_time": "2022-08-24T16:16:26.202Z"
   },
   {
    "duration": 7,
    "start_time": "2022-08-24T16:16:27.546Z"
   },
   {
    "duration": 23,
    "start_time": "2022-08-24T16:16:41.988Z"
   },
   {
    "duration": 17,
    "start_time": "2022-08-24T16:17:06.566Z"
   },
   {
    "duration": 567,
    "start_time": "2022-08-24T16:17:27.823Z"
   },
   {
    "duration": 10,
    "start_time": "2022-08-24T16:17:43.240Z"
   },
   {
    "duration": 76,
    "start_time": "2022-08-24T16:17:50.027Z"
   },
   {
    "duration": 17,
    "start_time": "2022-08-24T16:17:53.147Z"
   },
   {
    "duration": 12,
    "start_time": "2022-08-24T16:18:19.470Z"
   },
   {
    "duration": 19,
    "start_time": "2022-08-24T16:18:24.890Z"
   },
   {
    "duration": 501,
    "start_time": "2022-08-24T16:18:25.468Z"
   },
   {
    "duration": 3,
    "start_time": "2022-08-24T16:27:55.095Z"
   },
   {
    "duration": 229,
    "start_time": "2022-08-24T16:27:58.830Z"
   },
   {
    "duration": 10,
    "start_time": "2022-08-24T16:28:00.877Z"
   },
   {
    "duration": 115,
    "start_time": "2022-08-24T16:29:04.417Z"
   },
   {
    "duration": 10,
    "start_time": "2022-08-24T16:29:07.668Z"
   },
   {
    "duration": 225,
    "start_time": "2022-08-24T16:29:15.908Z"
   },
   {
    "duration": 10,
    "start_time": "2022-08-24T16:29:31.091Z"
   },
   {
    "duration": 13,
    "start_time": "2022-08-24T16:29:34.518Z"
   },
   {
    "duration": 14,
    "start_time": "2022-08-24T16:30:22.831Z"
   },
   {
    "duration": 77,
    "start_time": "2022-08-24T16:30:34.736Z"
   },
   {
    "duration": 78,
    "start_time": "2022-08-24T16:30:46.903Z"
   },
   {
    "duration": 14,
    "start_time": "2022-08-24T16:31:28.569Z"
   },
   {
    "duration": 166,
    "start_time": "2022-08-24T16:31:40.215Z"
   },
   {
    "duration": 73,
    "start_time": "2022-08-24T16:31:51.253Z"
   },
   {
    "duration": 83,
    "start_time": "2022-08-24T16:34:09.282Z"
   },
   {
    "duration": 224,
    "start_time": "2022-08-24T16:34:57.578Z"
   },
   {
    "duration": 7,
    "start_time": "2022-08-24T16:34:58.346Z"
   },
   {
    "duration": 2,
    "start_time": "2022-08-24T16:35:01.931Z"
   },
   {
    "duration": 9902,
    "start_time": "2022-08-24T16:35:02.181Z"
   },
   {
    "duration": 257,
    "start_time": "2022-08-24T16:35:29.212Z"
   },
   {
    "duration": 8,
    "start_time": "2022-08-24T16:35:30.522Z"
   },
   {
    "duration": 3,
    "start_time": "2022-08-24T16:35:33.572Z"
   },
   {
    "duration": 76,
    "start_time": "2022-08-24T16:35:34.636Z"
   },
   {
    "duration": 84,
    "start_time": "2022-08-24T16:35:49.888Z"
   },
   {
    "duration": 78,
    "start_time": "2022-08-24T16:36:11.329Z"
   },
   {
    "duration": 76,
    "start_time": "2022-08-24T16:37:24.379Z"
   },
   {
    "duration": 91,
    "start_time": "2022-08-24T16:38:18.103Z"
   },
   {
    "duration": 89,
    "start_time": "2022-08-24T16:38:31.901Z"
   },
   {
    "duration": 13,
    "start_time": "2022-08-24T16:38:56.040Z"
   },
   {
    "duration": 86,
    "start_time": "2022-08-24T16:39:01.606Z"
   },
   {
    "duration": 91,
    "start_time": "2022-08-24T16:39:10.015Z"
   },
   {
    "duration": 101,
    "start_time": "2022-08-24T16:39:31.688Z"
   },
   {
    "duration": 3,
    "start_time": "2022-08-24T16:39:37.410Z"
   },
   {
    "duration": 118,
    "start_time": "2022-08-24T16:39:40.069Z"
   },
   {
    "duration": 1324,
    "start_time": "2022-08-24T16:39:48.743Z"
   },
   {
    "duration": 4,
    "start_time": "2022-08-24T16:39:50.070Z"
   },
   {
    "duration": 9574,
    "start_time": "2022-08-24T16:39:50.079Z"
   },
   {
    "duration": 55,
    "start_time": "2022-08-24T16:39:59.655Z"
   },
   {
    "duration": 15,
    "start_time": "2022-08-24T16:39:59.712Z"
   },
   {
    "duration": 113,
    "start_time": "2022-08-24T16:39:59.729Z"
   },
   {
    "duration": 342,
    "start_time": "2022-08-24T16:39:59.845Z"
   },
   {
    "duration": 3,
    "start_time": "2022-08-24T16:40:00.189Z"
   },
   {
    "duration": 161,
    "start_time": "2022-08-24T16:40:00.195Z"
   },
   {
    "duration": 291,
    "start_time": "2022-08-24T16:40:00.358Z"
   },
   {
    "duration": 18,
    "start_time": "2022-08-24T16:40:00.651Z"
   },
   {
    "duration": 130,
    "start_time": "2022-08-24T16:40:00.671Z"
   },
   {
    "duration": 8,
    "start_time": "2022-08-24T16:40:00.803Z"
   },
   {
    "duration": 23,
    "start_time": "2022-08-24T16:40:00.813Z"
   },
   {
    "duration": 6,
    "start_time": "2022-08-24T16:40:00.838Z"
   },
   {
    "duration": 119,
    "start_time": "2022-08-24T16:40:00.846Z"
   },
   {
    "duration": 8,
    "start_time": "2022-08-24T16:40:00.967Z"
   },
   {
    "duration": 393,
    "start_time": "2022-08-24T16:40:00.976Z"
   },
   {
    "duration": 3,
    "start_time": "2022-08-24T16:40:01.371Z"
   },
   {
    "duration": 1226,
    "start_time": "2022-08-24T16:40:01.376Z"
   },
   {
    "duration": 9,
    "start_time": "2022-08-24T16:40:02.604Z"
   },
   {
    "duration": 11,
    "start_time": "2022-08-24T16:40:02.614Z"
   },
   {
    "duration": 50,
    "start_time": "2022-08-24T16:40:02.627Z"
   },
   {
    "duration": 8,
    "start_time": "2022-08-24T16:40:02.679Z"
   },
   {
    "duration": 10,
    "start_time": "2022-08-24T16:40:02.688Z"
   },
   {
    "duration": 57,
    "start_time": "2022-08-24T16:40:02.700Z"
   },
   {
    "duration": 7,
    "start_time": "2022-08-24T16:40:02.761Z"
   },
   {
    "duration": 12,
    "start_time": "2022-08-24T16:40:02.770Z"
   },
   {
    "duration": 1172,
    "start_time": "2022-08-24T16:40:02.785Z"
   },
   {
    "duration": 10,
    "start_time": "2022-08-24T16:40:03.959Z"
   },
   {
    "duration": 3,
    "start_time": "2022-08-24T16:40:03.971Z"
   },
   {
    "duration": 494,
    "start_time": "2022-08-24T16:40:03.976Z"
   },
   {
    "duration": 10,
    "start_time": "2022-08-24T16:40:04.472Z"
   },
   {
    "duration": 67,
    "start_time": "2022-08-24T16:40:04.484Z"
   },
   {
    "duration": 485,
    "start_time": "2022-08-24T16:40:04.552Z"
   },
   {
    "duration": 112,
    "start_time": "2022-08-24T16:40:05.039Z"
   },
   {
    "duration": 0,
    "start_time": "2022-08-24T16:40:05.153Z"
   },
   {
    "duration": 0,
    "start_time": "2022-08-24T16:40:05.154Z"
   },
   {
    "duration": 0,
    "start_time": "2022-08-24T16:40:05.155Z"
   },
   {
    "duration": 0,
    "start_time": "2022-08-24T16:40:05.156Z"
   },
   {
    "duration": 0,
    "start_time": "2022-08-24T16:40:05.157Z"
   },
   {
    "duration": 0,
    "start_time": "2022-08-24T16:40:05.158Z"
   },
   {
    "duration": 0,
    "start_time": "2022-08-24T16:40:05.158Z"
   },
   {
    "duration": 0,
    "start_time": "2022-08-24T16:40:05.167Z"
   },
   {
    "duration": 3,
    "start_time": "2022-08-24T16:40:21.734Z"
   },
   {
    "duration": 223,
    "start_time": "2022-08-24T16:40:23.350Z"
   },
   {
    "duration": 7,
    "start_time": "2022-08-24T16:40:24.100Z"
   },
   {
    "duration": 2,
    "start_time": "2022-08-24T16:40:24.811Z"
   },
   {
    "duration": 93,
    "start_time": "2022-08-24T16:40:24.962Z"
   },
   {
    "duration": 3,
    "start_time": "2022-08-24T16:40:25.147Z"
   },
   {
    "duration": 109,
    "start_time": "2022-08-24T16:40:26.897Z"
   },
   {
    "duration": 8,
    "start_time": "2022-08-24T16:40:27.394Z"
   },
   {
    "duration": 3,
    "start_time": "2022-08-24T16:40:30.168Z"
   },
   {
    "duration": 1301,
    "start_time": "2022-08-24T16:40:39.571Z"
   },
   {
    "duration": 3,
    "start_time": "2022-08-24T16:40:40.875Z"
   },
   {
    "duration": 9889,
    "start_time": "2022-08-24T16:40:40.880Z"
   },
   {
    "duration": 44,
    "start_time": "2022-08-24T16:40:50.771Z"
   },
   {
    "duration": 14,
    "start_time": "2022-08-24T16:40:50.817Z"
   },
   {
    "duration": 111,
    "start_time": "2022-08-24T16:40:50.832Z"
   },
   {
    "duration": 311,
    "start_time": "2022-08-24T16:40:50.944Z"
   },
   {
    "duration": 10,
    "start_time": "2022-08-24T16:40:51.257Z"
   },
   {
    "duration": 223,
    "start_time": "2022-08-24T16:40:51.269Z"
   },
   {
    "duration": 294,
    "start_time": "2022-08-24T16:40:51.497Z"
   },
   {
    "duration": 9,
    "start_time": "2022-08-24T16:40:51.793Z"
   },
   {
    "duration": 125,
    "start_time": "2022-08-24T16:40:51.804Z"
   },
   {
    "duration": 9,
    "start_time": "2022-08-24T16:40:51.931Z"
   },
   {
    "duration": 6,
    "start_time": "2022-08-24T16:40:51.942Z"
   },
   {
    "duration": 4,
    "start_time": "2022-08-24T16:40:51.969Z"
   },
   {
    "duration": 193,
    "start_time": "2022-08-24T16:40:51.975Z"
   },
   {
    "duration": 8,
    "start_time": "2022-08-24T16:40:52.170Z"
   },
   {
    "duration": 383,
    "start_time": "2022-08-24T16:40:52.180Z"
   },
   {
    "duration": 3,
    "start_time": "2022-08-24T16:40:52.564Z"
   },
   {
    "duration": 1256,
    "start_time": "2022-08-24T16:40:52.569Z"
   },
   {
    "duration": 7,
    "start_time": "2022-08-24T16:40:53.827Z"
   },
   {
    "duration": 6,
    "start_time": "2022-08-24T16:40:53.836Z"
   },
   {
    "duration": 62,
    "start_time": "2022-08-24T16:40:53.844Z"
   },
   {
    "duration": 8,
    "start_time": "2022-08-24T16:40:53.908Z"
   },
   {
    "duration": 4,
    "start_time": "2022-08-24T16:40:53.918Z"
   },
   {
    "duration": 47,
    "start_time": "2022-08-24T16:40:53.924Z"
   },
   {
    "duration": 6,
    "start_time": "2022-08-24T16:40:53.973Z"
   },
   {
    "duration": 3,
    "start_time": "2022-08-24T16:40:53.983Z"
   },
   {
    "duration": 1179,
    "start_time": "2022-08-24T16:40:53.988Z"
   },
   {
    "duration": 10,
    "start_time": "2022-08-24T16:40:55.169Z"
   },
   {
    "duration": 86,
    "start_time": "2022-08-24T16:40:55.181Z"
   },
   {
    "duration": 5325,
    "start_time": "2022-08-24T16:40:55.269Z"
   },
   {
    "duration": 10,
    "start_time": "2022-08-24T16:41:00.596Z"
   },
   {
    "duration": 104,
    "start_time": "2022-08-24T16:41:00.608Z"
   },
   {
    "duration": 532,
    "start_time": "2022-08-24T16:41:00.714Z"
   },
   {
    "duration": 3,
    "start_time": "2022-08-24T16:41:01.248Z"
   },
   {
    "duration": 246,
    "start_time": "2022-08-24T16:41:01.253Z"
   },
   {
    "duration": 10,
    "start_time": "2022-08-24T16:41:01.501Z"
   },
   {
    "duration": 23,
    "start_time": "2022-08-24T16:41:01.513Z"
   },
   {
    "duration": 119,
    "start_time": "2022-08-24T16:41:01.538Z"
   },
   {
    "duration": 8,
    "start_time": "2022-08-24T16:41:01.660Z"
   },
   {
    "duration": 118,
    "start_time": "2022-08-24T16:41:01.670Z"
   },
   {
    "duration": 8,
    "start_time": "2022-08-24T16:41:01.790Z"
   },
   {
    "duration": 8,
    "start_time": "2022-08-24T16:41:01.801Z"
   },
   {
    "duration": 1551,
    "start_time": "2022-08-24T18:26:11.503Z"
   },
   {
    "duration": 4,
    "start_time": "2022-08-24T18:26:13.057Z"
   },
   {
    "duration": 9852,
    "start_time": "2022-08-24T18:26:13.063Z"
   },
   {
    "duration": 272,
    "start_time": "2022-08-24T18:26:22.918Z"
   },
   {
    "duration": 19,
    "start_time": "2022-08-24T18:26:23.192Z"
   },
   {
    "duration": 144,
    "start_time": "2022-08-24T18:26:23.213Z"
   },
   {
    "duration": 375,
    "start_time": "2022-08-24T18:26:23.358Z"
   },
   {
    "duration": 3,
    "start_time": "2022-08-24T18:26:23.734Z"
   },
   {
    "duration": 171,
    "start_time": "2022-08-24T18:26:23.739Z"
   },
   {
    "duration": 271,
    "start_time": "2022-08-24T18:26:23.913Z"
   },
   {
    "duration": 8,
    "start_time": "2022-08-24T18:26:24.186Z"
   },
   {
    "duration": 119,
    "start_time": "2022-08-24T18:26:24.202Z"
   },
   {
    "duration": 8,
    "start_time": "2022-08-24T18:26:24.323Z"
   },
   {
    "duration": 7,
    "start_time": "2022-08-24T18:26:24.334Z"
   },
   {
    "duration": 6,
    "start_time": "2022-08-24T18:26:24.343Z"
   },
   {
    "duration": 140,
    "start_time": "2022-08-24T18:26:24.352Z"
   },
   {
    "duration": 8,
    "start_time": "2022-08-24T18:26:24.493Z"
   },
   {
    "duration": 388,
    "start_time": "2022-08-24T18:26:24.502Z"
   },
   {
    "duration": 3,
    "start_time": "2022-08-24T18:26:24.892Z"
   },
   {
    "duration": 1122,
    "start_time": "2022-08-24T18:26:24.903Z"
   },
   {
    "duration": 9,
    "start_time": "2022-08-24T18:26:26.027Z"
   },
   {
    "duration": 3,
    "start_time": "2022-08-24T18:26:26.038Z"
   },
   {
    "duration": 79,
    "start_time": "2022-08-24T18:26:26.043Z"
   },
   {
    "duration": 7,
    "start_time": "2022-08-24T18:26:26.124Z"
   },
   {
    "duration": 6,
    "start_time": "2022-08-24T18:26:26.133Z"
   },
   {
    "duration": 76,
    "start_time": "2022-08-24T18:26:26.141Z"
   },
   {
    "duration": 8,
    "start_time": "2022-08-24T18:26:26.220Z"
   },
   {
    "duration": 6,
    "start_time": "2022-08-24T18:26:26.231Z"
   },
   {
    "duration": 1120,
    "start_time": "2022-08-24T18:26:26.238Z"
   },
   {
    "duration": 9,
    "start_time": "2022-08-24T18:26:27.360Z"
   },
   {
    "duration": 6,
    "start_time": "2022-08-24T18:26:27.370Z"
   },
   {
    "duration": 483,
    "start_time": "2022-08-24T18:26:27.378Z"
   },
   {
    "duration": 10,
    "start_time": "2022-08-24T18:26:27.863Z"
   },
   {
    "duration": 19,
    "start_time": "2022-08-24T18:26:27.874Z"
   },
   {
    "duration": 505,
    "start_time": "2022-08-24T18:26:27.895Z"
   },
   {
    "duration": 2,
    "start_time": "2022-08-24T18:26:28.404Z"
   },
   {
    "duration": 264,
    "start_time": "2022-08-24T18:26:28.409Z"
   },
   {
    "duration": 8,
    "start_time": "2022-08-24T18:26:28.675Z"
   },
   {
    "duration": 8,
    "start_time": "2022-08-24T18:26:28.685Z"
   },
   {
    "duration": 103,
    "start_time": "2022-08-24T18:26:28.694Z"
   },
   {
    "duration": 3,
    "start_time": "2022-08-24T18:26:28.799Z"
   },
   {
    "duration": 142,
    "start_time": "2022-08-24T18:26:28.804Z"
   },
   {
    "duration": 11,
    "start_time": "2022-08-24T18:26:28.948Z"
   },
   {
    "duration": 13,
    "start_time": "2022-08-24T18:26:28.962Z"
   },
   {
    "duration": 146,
    "start_time": "2022-08-24T18:27:04.542Z"
   },
   {
    "duration": 7,
    "start_time": "2022-08-24T18:27:08.023Z"
   },
   {
    "duration": 162,
    "start_time": "2022-08-24T18:27:41.108Z"
   },
   {
    "duration": 10,
    "start_time": "2022-08-24T18:27:44.363Z"
   },
   {
    "duration": 595,
    "start_time": "2022-08-24T18:29:36.237Z"
   },
   {
    "duration": 145,
    "start_time": "2022-08-24T18:29:58.592Z"
   },
   {
    "duration": 12,
    "start_time": "2022-08-24T18:30:01.241Z"
   },
   {
    "duration": 1133,
    "start_time": "2022-08-24T18:31:12.449Z"
   },
   {
    "duration": 15,
    "start_time": "2022-08-24T18:31:16.768Z"
   },
   {
    "duration": 11,
    "start_time": "2022-08-24T18:31:21.415Z"
   },
   {
    "duration": 135,
    "start_time": "2022-08-24T18:31:56.500Z"
   },
   {
    "duration": 9,
    "start_time": "2022-08-24T18:31:57.431Z"
   },
   {
    "duration": 10,
    "start_time": "2022-08-24T18:38:25.196Z"
   },
   {
    "duration": 179,
    "start_time": "2022-08-24T18:38:29.899Z"
   },
   {
    "duration": 11,
    "start_time": "2022-08-24T18:38:30.757Z"
   },
   {
    "duration": 162,
    "start_time": "2022-08-24T18:38:37.378Z"
   },
   {
    "duration": 10,
    "start_time": "2022-08-24T18:38:38.083Z"
   },
   {
    "duration": 161,
    "start_time": "2022-08-24T18:38:42.127Z"
   },
   {
    "duration": 11,
    "start_time": "2022-08-24T18:38:43.466Z"
   },
   {
    "duration": 49,
    "start_time": "2022-08-24T19:19:13.025Z"
   },
   {
    "duration": 1570,
    "start_time": "2022-08-24T19:20:07.147Z"
   },
   {
    "duration": 4,
    "start_time": "2022-08-24T19:20:08.719Z"
   },
   {
    "duration": 20171,
    "start_time": "2022-08-24T19:20:08.724Z"
   },
   {
    "duration": 58,
    "start_time": "2022-08-24T19:20:28.898Z"
   },
   {
    "duration": 13,
    "start_time": "2022-08-24T19:20:28.958Z"
   },
   {
    "duration": 121,
    "start_time": "2022-08-24T19:20:28.973Z"
   },
   {
    "duration": 332,
    "start_time": "2022-08-24T19:20:29.096Z"
   },
   {
    "duration": 3,
    "start_time": "2022-08-24T19:20:29.429Z"
   },
   {
    "duration": 149,
    "start_time": "2022-08-24T19:20:29.433Z"
   },
   {
    "duration": 14,
    "start_time": "2022-08-24T19:20:29.584Z"
   },
   {
    "duration": 295,
    "start_time": "2022-08-24T19:20:29.600Z"
   },
   {
    "duration": 12,
    "start_time": "2022-08-24T19:20:29.897Z"
   },
   {
    "duration": 124,
    "start_time": "2022-08-24T19:20:29.911Z"
   },
   {
    "duration": 9,
    "start_time": "2022-08-24T19:20:30.037Z"
   },
   {
    "duration": 7,
    "start_time": "2022-08-24T19:20:30.048Z"
   },
   {
    "duration": 7,
    "start_time": "2022-08-24T19:20:30.057Z"
   },
   {
    "duration": 126,
    "start_time": "2022-08-24T19:20:30.066Z"
   },
   {
    "duration": 10,
    "start_time": "2022-08-24T19:20:30.194Z"
   },
   {
    "duration": 389,
    "start_time": "2022-08-24T19:20:30.207Z"
   },
   {
    "duration": 4,
    "start_time": "2022-08-24T19:20:30.598Z"
   },
   {
    "duration": 1273,
    "start_time": "2022-08-24T19:20:30.603Z"
   },
   {
    "duration": 8,
    "start_time": "2022-08-24T19:20:31.878Z"
   },
   {
    "duration": 7,
    "start_time": "2022-08-24T19:20:31.887Z"
   },
   {
    "duration": 61,
    "start_time": "2022-08-24T19:20:31.896Z"
   },
   {
    "duration": 7,
    "start_time": "2022-08-24T19:20:31.959Z"
   },
   {
    "duration": 3,
    "start_time": "2022-08-24T19:20:31.969Z"
   },
   {
    "duration": 38,
    "start_time": "2022-08-24T19:20:31.974Z"
   },
   {
    "duration": 6,
    "start_time": "2022-08-24T19:20:32.016Z"
   },
   {
    "duration": 5,
    "start_time": "2022-08-24T19:20:32.024Z"
   },
   {
    "duration": 1277,
    "start_time": "2022-08-24T19:20:32.031Z"
   },
   {
    "duration": 9,
    "start_time": "2022-08-24T19:20:33.310Z"
   },
   {
    "duration": 4,
    "start_time": "2022-08-24T19:20:33.321Z"
   },
   {
    "duration": 454,
    "start_time": "2022-08-24T19:20:33.326Z"
   },
   {
    "duration": 10,
    "start_time": "2022-08-24T19:20:33.782Z"
   },
   {
    "duration": 30,
    "start_time": "2022-08-24T19:20:33.794Z"
   },
   {
    "duration": 493,
    "start_time": "2022-08-24T19:20:33.825Z"
   },
   {
    "duration": 2,
    "start_time": "2022-08-24T19:20:34.320Z"
   },
   {
    "duration": 225,
    "start_time": "2022-08-24T19:20:34.324Z"
   },
   {
    "duration": 6,
    "start_time": "2022-08-24T19:20:34.551Z"
   },
   {
    "duration": 4,
    "start_time": "2022-08-24T19:20:34.559Z"
   },
   {
    "duration": 96,
    "start_time": "2022-08-24T19:20:34.565Z"
   },
   {
    "duration": 3,
    "start_time": "2022-08-24T19:20:34.662Z"
   },
   {
    "duration": 110,
    "start_time": "2022-08-24T19:20:34.666Z"
   },
   {
    "duration": 8,
    "start_time": "2022-08-24T19:20:34.777Z"
   },
   {
    "duration": 254,
    "start_time": "2022-08-24T19:24:29.234Z"
   },
   {
    "duration": 8,
    "start_time": "2022-08-24T19:24:32.505Z"
   },
   {
    "duration": 115,
    "start_time": "2022-08-24T19:25:39.538Z"
   },
   {
    "duration": 10,
    "start_time": "2022-08-24T19:25:40.216Z"
   },
   {
    "duration": 1382,
    "start_time": "2022-08-24T19:33:46.222Z"
   },
   {
    "duration": 4,
    "start_time": "2022-08-24T19:33:47.610Z"
   },
   {
    "duration": 9913,
    "start_time": "2022-08-24T19:33:47.616Z"
   },
   {
    "duration": 51,
    "start_time": "2022-08-24T19:33:57.531Z"
   },
   {
    "duration": 17,
    "start_time": "2022-08-24T19:33:57.584Z"
   },
   {
    "duration": 73,
    "start_time": "2022-08-24T19:33:57.605Z"
   },
   {
    "duration": 365,
    "start_time": "2022-08-24T19:33:57.679Z"
   },
   {
    "duration": 3,
    "start_time": "2022-08-24T19:33:58.046Z"
   },
   {
    "duration": 167,
    "start_time": "2022-08-24T19:33:58.051Z"
   },
   {
    "duration": 13,
    "start_time": "2022-08-24T19:33:58.221Z"
   },
   {
    "duration": 347,
    "start_time": "2022-08-24T19:33:58.237Z"
   },
   {
    "duration": 10,
    "start_time": "2022-08-24T19:33:58.586Z"
   },
   {
    "duration": 142,
    "start_time": "2022-08-24T19:33:58.598Z"
   },
   {
    "duration": 11,
    "start_time": "2022-08-24T19:33:58.743Z"
   },
   {
    "duration": 6,
    "start_time": "2022-08-24T19:33:58.756Z"
   },
   {
    "duration": 6,
    "start_time": "2022-08-24T19:33:58.765Z"
   },
   {
    "duration": 145,
    "start_time": "2022-08-24T19:33:58.773Z"
   },
   {
    "duration": 8,
    "start_time": "2022-08-24T19:33:58.920Z"
   },
   {
    "duration": 392,
    "start_time": "2022-08-24T19:33:58.930Z"
   },
   {
    "duration": 2,
    "start_time": "2022-08-24T19:33:59.324Z"
   },
   {
    "duration": 1247,
    "start_time": "2022-08-24T19:33:59.328Z"
   },
   {
    "duration": 7,
    "start_time": "2022-08-24T19:34:00.577Z"
   },
   {
    "duration": 20,
    "start_time": "2022-08-24T19:34:00.593Z"
   },
   {
    "duration": 73,
    "start_time": "2022-08-24T19:34:00.614Z"
   },
   {
    "duration": 9,
    "start_time": "2022-08-24T19:34:00.689Z"
   },
   {
    "duration": 35,
    "start_time": "2022-08-24T19:34:00.700Z"
   },
   {
    "duration": 52,
    "start_time": "2022-08-24T19:34:00.738Z"
   },
   {
    "duration": 8,
    "start_time": "2022-08-24T19:34:00.796Z"
   },
   {
    "duration": 19,
    "start_time": "2022-08-24T19:34:00.806Z"
   },
   {
    "duration": 1308,
    "start_time": "2022-08-24T19:34:00.827Z"
   },
   {
    "duration": 12,
    "start_time": "2022-08-24T19:34:02.137Z"
   },
   {
    "duration": 11,
    "start_time": "2022-08-24T19:34:02.151Z"
   },
   {
    "duration": 473,
    "start_time": "2022-08-24T19:34:02.164Z"
   },
   {
    "duration": 9,
    "start_time": "2022-08-24T19:34:02.639Z"
   },
   {
    "duration": 27,
    "start_time": "2022-08-24T19:34:02.650Z"
   },
   {
    "duration": 516,
    "start_time": "2022-08-24T19:34:02.680Z"
   },
   {
    "duration": 4,
    "start_time": "2022-08-24T19:34:03.199Z"
   },
   {
    "duration": 246,
    "start_time": "2022-08-24T19:34:03.206Z"
   },
   {
    "duration": 8,
    "start_time": "2022-08-24T19:34:03.453Z"
   },
   {
    "duration": 5,
    "start_time": "2022-08-24T19:34:03.463Z"
   },
   {
    "duration": 111,
    "start_time": "2022-08-24T19:34:03.470Z"
   },
   {
    "duration": 3,
    "start_time": "2022-08-24T19:34:03.583Z"
   },
   {
    "duration": 131,
    "start_time": "2022-08-24T19:34:03.588Z"
   },
   {
    "duration": 12,
    "start_time": "2022-08-24T19:34:03.721Z"
   },
   {
    "duration": 7,
    "start_time": "2022-08-24T19:34:03.735Z"
   },
   {
    "duration": 1333,
    "start_time": "2022-08-25T07:55:21.579Z"
   },
   {
    "duration": 6,
    "start_time": "2022-08-25T07:55:22.914Z"
   },
   {
    "duration": 14311,
    "start_time": "2022-08-25T07:55:22.922Z"
   },
   {
    "duration": 58,
    "start_time": "2022-08-25T07:55:37.236Z"
   },
   {
    "duration": 22,
    "start_time": "2022-08-25T07:55:37.299Z"
   },
   {
    "duration": 65,
    "start_time": "2022-08-25T07:55:37.323Z"
   },
   {
    "duration": 348,
    "start_time": "2022-08-25T07:55:37.390Z"
   },
   {
    "duration": 3,
    "start_time": "2022-08-25T07:55:37.740Z"
   },
   {
    "duration": 138,
    "start_time": "2022-08-25T07:55:37.745Z"
   },
   {
    "duration": 26,
    "start_time": "2022-08-25T07:55:37.886Z"
   },
   {
    "duration": 351,
    "start_time": "2022-08-25T07:55:37.914Z"
   },
   {
    "duration": 15,
    "start_time": "2022-08-25T07:55:38.267Z"
   },
   {
    "duration": 153,
    "start_time": "2022-08-25T07:55:38.292Z"
   },
   {
    "duration": 10,
    "start_time": "2022-08-25T07:55:38.447Z"
   },
   {
    "duration": 19,
    "start_time": "2022-08-25T07:55:38.459Z"
   },
   {
    "duration": 5,
    "start_time": "2022-08-25T07:55:38.480Z"
   },
   {
    "duration": 121,
    "start_time": "2022-08-25T07:55:38.494Z"
   },
   {
    "duration": 7,
    "start_time": "2022-08-25T07:55:38.617Z"
   },
   {
    "duration": 414,
    "start_time": "2022-08-25T07:55:38.626Z"
   },
   {
    "duration": 3,
    "start_time": "2022-08-25T07:55:39.042Z"
   },
   {
    "duration": 1189,
    "start_time": "2022-08-25T07:55:39.048Z"
   },
   {
    "duration": 9,
    "start_time": "2022-08-25T07:55:40.239Z"
   },
   {
    "duration": 7,
    "start_time": "2022-08-25T07:55:40.250Z"
   },
   {
    "duration": 58,
    "start_time": "2022-08-25T07:55:40.259Z"
   },
   {
    "duration": 11,
    "start_time": "2022-08-25T07:55:40.320Z"
   },
   {
    "duration": 11,
    "start_time": "2022-08-25T07:55:40.333Z"
   },
   {
    "duration": 44,
    "start_time": "2022-08-25T07:55:40.346Z"
   },
   {
    "duration": 13,
    "start_time": "2022-08-25T07:55:40.394Z"
   },
   {
    "duration": 4,
    "start_time": "2022-08-25T07:55:40.416Z"
   },
   {
    "duration": 1209,
    "start_time": "2022-08-25T07:55:40.422Z"
   },
   {
    "duration": 10,
    "start_time": "2022-08-25T07:55:41.633Z"
   },
   {
    "duration": 11,
    "start_time": "2022-08-25T07:55:41.645Z"
   },
   {
    "duration": 526,
    "start_time": "2022-08-25T07:55:41.658Z"
   },
   {
    "duration": 13,
    "start_time": "2022-08-25T07:55:42.186Z"
   },
   {
    "duration": 32,
    "start_time": "2022-08-25T07:55:42.201Z"
   },
   {
    "duration": 483,
    "start_time": "2022-08-25T07:55:42.235Z"
   },
   {
    "duration": 3,
    "start_time": "2022-08-25T07:55:42.721Z"
   },
   {
    "duration": 229,
    "start_time": "2022-08-25T07:55:42.726Z"
   },
   {
    "duration": 8,
    "start_time": "2022-08-25T07:55:42.957Z"
   },
   {
    "duration": 4,
    "start_time": "2022-08-25T07:55:42.967Z"
   },
   {
    "duration": 95,
    "start_time": "2022-08-25T07:55:42.974Z"
   },
   {
    "duration": 2,
    "start_time": "2022-08-25T07:55:43.071Z"
   },
   {
    "duration": 126,
    "start_time": "2022-08-25T07:55:43.075Z"
   },
   {
    "duration": 26,
    "start_time": "2022-08-25T07:55:43.206Z"
   },
   {
    "duration": 3,
    "start_time": "2022-08-25T07:55:43.234Z"
   },
   {
    "duration": 1358,
    "start_time": "2022-08-26T08:29:49.593Z"
   },
   {
    "duration": 4,
    "start_time": "2022-08-26T08:29:50.952Z"
   },
   {
    "duration": 5666,
    "start_time": "2022-08-26T08:29:51.266Z"
   },
   {
    "duration": 217,
    "start_time": "2022-08-26T08:29:56.934Z"
   },
   {
    "duration": 14,
    "start_time": "2022-08-26T08:29:57.152Z"
   },
   {
    "duration": 12806,
    "start_time": "2022-08-26T08:29:57.168Z"
   },
   {
    "duration": 303,
    "start_time": "2022-08-26T08:30:09.976Z"
   },
   {
    "duration": 7,
    "start_time": "2022-08-26T08:30:10.280Z"
   },
   {
    "duration": 208,
    "start_time": "2022-08-26T08:30:10.289Z"
   },
   {
    "duration": 0,
    "start_time": "2022-08-26T08:30:10.499Z"
   },
   {
    "duration": 273,
    "start_time": "2022-08-26T08:30:27.934Z"
   },
   {
    "duration": 10,
    "start_time": "2022-08-26T08:30:28.777Z"
   },
   {
    "duration": 2099,
    "start_time": "2022-08-26T08:31:50.324Z"
   },
   {
    "duration": 10,
    "start_time": "2022-08-26T08:31:53.143Z"
   },
   {
    "duration": 4524,
    "start_time": "2022-08-26T08:32:36.608Z"
   },
   {
    "duration": 11,
    "start_time": "2022-08-26T08:32:41.133Z"
   },
   {
    "duration": 254,
    "start_time": "2022-08-26T08:32:57.584Z"
   },
   {
    "duration": 10,
    "start_time": "2022-08-26T08:32:58.700Z"
   },
   {
    "duration": 206,
    "start_time": "2022-08-26T08:33:22.773Z"
   },
   {
    "duration": 10,
    "start_time": "2022-08-26T08:33:25.209Z"
   },
   {
    "duration": 241,
    "start_time": "2022-08-26T08:33:47.540Z"
   },
   {
    "duration": 10,
    "start_time": "2022-08-26T08:33:48.085Z"
   },
   {
    "duration": 194,
    "start_time": "2022-08-26T08:36:17.709Z"
   },
   {
    "duration": 10,
    "start_time": "2022-08-26T08:36:18.451Z"
   },
   {
    "duration": 197,
    "start_time": "2022-08-26T08:36:44.742Z"
   },
   {
    "duration": 9,
    "start_time": "2022-08-26T08:36:45.211Z"
   }
  ],
  "colab": {
   "name": "AdvansedSQLProjectTemplate.ipynb",
   "provenance": []
  },
  "kernelspec": {
   "display_name": "Python 3 (ipykernel)",
   "language": "python",
   "name": "python3"
  },
  "language_info": {
   "codemirror_mode": {
    "name": "ipython",
    "version": 3
   },
   "file_extension": ".py",
   "mimetype": "text/x-python",
   "name": "python",
   "nbconvert_exporter": "python",
   "pygments_lexer": "ipython3",
   "version": "3.9.7"
  },
  "toc": {
   "base_numbering": 1,
   "nav_menu": {},
   "number_sections": false,
   "sideBar": true,
   "skip_h1_title": false,
   "title_cell": "Table of Contents",
   "title_sidebar": "Contents",
   "toc_cell": false,
   "toc_position": {},
   "toc_section_display": true,
   "toc_window_display": true
  }
 },
 "nbformat": 4,
 "nbformat_minor": 1
}
